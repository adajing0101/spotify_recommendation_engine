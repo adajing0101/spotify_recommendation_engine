{
 "cells": [
  {
   "cell_type": "code",
   "execution_count": 1,
   "metadata": {},
   "outputs": [
    {
     "name": "stderr",
     "output_type": "stream",
     "text": [
      "/Users/juliankleindiek/anaconda3/lib/python3.7/site-packages/statsmodels/tools/_testing.py:19: FutureWarning: pandas.util.testing is deprecated. Use the functions in the public API at pandas.testing instead.\n",
      "  import pandas.util.testing as tm\n"
     ]
    }
   ],
   "source": [
    "import numpy as np\n",
    "import pandas as pd\n",
    "import seaborn as sns\n",
    "import matplotlib.pyplot as plt\n",
    "from sklearn.metrics.pairwise import cosine_similarity"
   ]
  },
  {
   "cell_type": "markdown",
   "metadata": {},
   "source": [
    "## Data Import"
   ]
  },
  {
   "cell_type": "code",
   "execution_count": 2,
   "metadata": {},
   "outputs": [],
   "source": [
    "dat = pd.read_csv(\"01_Data/spotify_dat.csv\", index_col = 0)"
   ]
  },
  {
   "cell_type": "code",
   "execution_count": 3,
   "metadata": {},
   "outputs": [],
   "source": [
    "# select track info and audio features\n",
    "dat_reco = dat[['df_label', 'name', 'album_name', 'artist_name', 'uri', 'popularity', 'artist_popularity', 'explicit', 'acousticness', 'danceability', 'energy', 'instrumentalness', \n",
    "                'liveness', 'loudness', 'speechiness', 'valence', 'tempo', 'mode', 'num_of_sections', 'num_of_keys', 'num_of_modes', \n",
    "                'num_of_time_signatures', 'duration_minutes', 'section_durations_variance', 'section_durations_min', 'section_durations_max', 'section_loudnesses_variance', \n",
    "                'section_loudnesses_min', 'section_loudnesses_max', 'section_tempos_variance', 'section_tempos_min', 'section_tempos_max', 'album_big_label', 'album_medium_label', \n",
    "                'genre_alternative metal/rock', 'genre_background', 'genre_baroque classic', 'genre_classical', 'genre_country', 'genre_hip hop', 'genre_house', 'genre_indie', \n",
    "                'genre_mexican', 'genre_pop', 'genre_rap', 'genre_rock', 'time_signature_1', 'time_signature_3', 'time_signature_4', 'time_signature_5', 'overall_key_1', \n",
    "                'overall_key_2', 'overall_key_3', 'overall_key_4', 'overall_key_5', 'overall_key_6', 'overall_key_7', 'overall_key_8', 'overall_key_9', 'overall_key_10', \n",
    "                'overall_key_11']]"
   ]
  },
  {
   "cell_type": "code",
   "execution_count": 4,
   "metadata": {},
   "outputs": [],
   "source": [
    "# create list of the names of the songs in the user's profile\n",
    "user_songs = list(dat_reco[dat_reco['df_label'] == \"user4\"][\"name\"].values)"
   ]
  },
  {
   "cell_type": "markdown",
   "metadata": {},
   "source": [
    "## Song-Based Recommendation Engine\n",
    "Goal: Generate themed playlists based on songs a user listened to in the past. We take two approaches for this recommendation:\n",
    "1. We recommend new songs based on the audio features of a user's single favorite song.\n",
    "2. We recommend new songs based on the average of the audio features of all songs a user has in its profile."
   ]
  },
  {
   "cell_type": "code",
   "execution_count": 5,
   "metadata": {},
   "outputs": [],
   "source": [
    "def playlist_recommendation(song, data, theme, n_songs):\n",
    "    \"\"\"\n",
    "    This function recommends a playlist of n_songs  based on a single song or a collection of songs leveraging cosine similarity between the songs' features.\n",
    "    It is possible to pass the function a single song or a list of songs (i.e. all songs in a user profile). If a list of songs is passed, the average of the songs' audio features\n",
    "    is considered for cosine similarity. \n",
    "    It is possible to define a theme for the palylist.\n",
    "    it is possible to define the length of the playlist.\n",
    "    \"\"\"\n",
    "    \n",
    "    # error handling: song must be included in data\n",
    "    if pd.Series(song).isin(data[\"name\"])[0] != True:\n",
    "        raise Exception(\"Found an error. Song must be included in data.\")\n",
    "    \n",
    "    # error handling: data must include the following columns\n",
    "    if set(['name', 'album_name', 'artist_name', 'uri', 'popularity', 'artist_popularity', 'explicit', 'acousticness', 'danceability', 'energy', 'instrumentalness', \n",
    "            'liveness', 'loudness', 'speechiness', 'valence', 'tempo', 'mode', 'num_of_sections', 'num_of_keys', 'num_of_modes',  'num_of_time_signatures', 'duration_minutes', \n",
    "            'section_durations_variance', 'section_durations_min', 'section_durations_max', 'section_loudnesses_variance',  'section_loudnesses_min', 'section_loudnesses_max', \n",
    "            'section_tempos_variance', 'section_tempos_min', 'section_tempos_max', 'album_big_label', 'album_medium_label',  'genre_alternative metal/rock', 'genre_background', \n",
    "            'genre_baroque classic', 'genre_classical', 'genre_country', 'genre_hip hop', 'genre_house', 'genre_indie',  'genre_mexican', 'genre_pop', 'genre_rap', 'genre_rock', \n",
    "            'time_signature_1', 'time_signature_3', 'time_signature_4', 'time_signature_5', 'overall_key_1',  'overall_key_2', 'overall_key_3', 'overall_key_4', 'overall_key_5', \n",
    "            'overall_key_6', 'overall_key_7', 'overall_key_8', 'overall_key_9', 'overall_key_10', 'overall_key_11']).issubset(data.columns) != True:\n",
    "        raise Exception(\"Found an error. Data provided does not contain required columns.\")\n",
    "    \n",
    "    # error handling: the following themes can be passed to the function\n",
    "    if theme not in [\"none\", \"dance\", \"chill\", \"discover\"]:\n",
    "        raise Exception(\"Found an error. Supported themes are none, dance, chill, and discover\")\n",
    "    \n",
    "    # slice data by theme\n",
    "    if theme == \"dance\":\n",
    "        data_pool = data[data[\"danceability\"] > 0.75]\n",
    "    elif theme == \"chill\":\n",
    "        data_pool = data[(data[\"tempo\"] < 95) & (data[\"valence\"] > 0.5)]\n",
    "    elif theme == \"discover\":\n",
    "        data_pool = data[(data[\"popularity\"] < 60) & (data[\"artist_popularity\"] < 80)]\n",
    "    elif theme == \"none\":\n",
    "        data_pool = data\n",
    "        \n",
    "    # required columns for analysis\n",
    "    required_columns = ['popularity', 'artist_popularity', 'explicit', 'acousticness', 'danceability', 'energy', 'instrumentalness', 'liveness', 'loudness', 'speechiness', \n",
    "                          'valence', 'tempo', 'mode', 'num_of_sections', 'num_of_keys', 'num_of_modes',  'num_of_time_signatures', 'duration_minutes',\n",
    "                          'section_durations_variance', 'section_durations_min', 'section_durations_max', 'section_loudnesses_variance',  'section_loudnesses_min', \n",
    "                          'section_loudnesses_max',  'section_tempos_variance', 'section_tempos_min', 'section_tempos_max', 'album_big_label', 'album_medium_label',\n",
    "                          'genre_alternative metal/rock', 'genre_background',  'genre_baroque classic', 'genre_classical', 'genre_country', 'genre_hip hop', 'genre_house', \n",
    "                          'genre_indie',  'genre_mexican', 'genre_pop', 'genre_rap', 'genre_rock',  'time_signature_1', 'time_signature_3', 'time_signature_4', \n",
    "                          'time_signature_5', 'overall_key_1',  'overall_key_2', 'overall_key_3', 'overall_key_4', 'overall_key_5',  'overall_key_6', 'overall_key_7', \n",
    "                          'overall_key_8', 'overall_key_9', 'overall_key_10', 'overall_key_11']\n",
    "\n",
    "    # handling input of song variable (single song vs. list of songs)\n",
    "    if type(song) == list:\n",
    "        # create user dataframe with user data from original dataframe and filter out user data from data_pool\n",
    "        user = data[data['name'].isin(song)]\n",
    "        data_pool = data_pool[~data_pool['name'].isin(song)]\n",
    "        # calculate mean of user input\n",
    "        user_temp = user[required_columns]\n",
    "        user_row = pd.DataFrame(np.mean(user_temp, axis = 0)).T\n",
    "        user_row[\"name\"] = \"songs_agg\"\n",
    "        # concat user input and global as data_pool\n",
    "        data_pool = pd.concat([data_pool, user_row])\n",
    "\n",
    "    # add song to data_pool if not yet in there (i.e. because of filter)\n",
    "    else: \n",
    "        if song not in data_pool[\"name\"].values:\n",
    "            required_row = data[data[\"name\"] == song]\n",
    "            data_pool = pd.concat([data_pool, required_row])\n",
    "        \n",
    "    # get indices of all songs\n",
    "    original_indices = pd.Series(data_pool[\"name\"]) # for matching songs with data\n",
    "    temp_indices = pd.Series(data_pool[\"name\"].reset_index(drop = True))\n",
    "    \n",
    "    # prepare dataframe for cosine similarity with only audio features\n",
    "    data_pool_mtrx = data_pool[required_columns].values\n",
    "    \n",
    "    # calculate cosine similarity\n",
    "    cosine_sim = cosine_similarity(data_pool_mtrx, data_pool_mtrx)\n",
    "    \n",
    "    # initialize list for recommended playlist\n",
    "    recommended_playlist = []\n",
    "    \n",
    "    # get index of the song matching the given song depending on input (song vs. list of songs)\n",
    "    if type(song) == list:\n",
    "        idx_original = original_indices[original_indices == \"songs_agg\"].index[0]\n",
    "        idx_temp = temp_indices[temp_indices == \"songs_agg\"].index[0]\n",
    "    \n",
    "    elif type(song) == str:\n",
    "        idx_original = original_indices[original_indices == song].index[0]\n",
    "        idx_temp = temp_indices[temp_indices == song].index[0]\n",
    "    \n",
    "    # create series with similarity scores in descending order\n",
    "    scored_songs = pd.Series(cosine_sim[idx_temp]).sort_values(ascending = False)\n",
    "    \n",
    "    # get the indices of most similar songs\n",
    "    top_songs_idx_temp = list(scored_songs.iloc[1:n_songs].index)\n",
    "    \n",
    "    # convert top_songs_idx_temp to top_songs_idx_original\n",
    "    top_songs_idx_original = [original_indices[original_indices == item].index[0] for item in list(temp_indices[top_songs_idx_temp].values)]\n",
    "    \n",
    "    # append information on the top songs to recommended_playlist\n",
    "    for i in top_songs_idx_original:\n",
    "        recommended_playlist.append(list(data_pool[[\"name\", \"artist_name\", \"album_name\", \"uri\"]].loc[i,:]))\n",
    "    \n",
    "    # return results\n",
    "    recommended_playlist = pd.DataFrame(recommended_playlist)\n",
    "    recommended_playlist.rename(columns = {0: \"name\", 1: \"artist_name\", 2: \"album_name\", 3: \"uri\"}, inplace = True)\n",
    "    return pd.DataFrame(recommended_playlist)"
   ]
  },
  {
   "cell_type": "code",
   "execution_count": 6,
   "metadata": {},
   "outputs": [],
   "source": [
    "# make user-profile based recommendation\n",
    "chill_playlist_avg = playlist_recommendation(user_songs, dat_reco, \"chill\", 10)\n",
    "discover_playlist_avg = playlist_recommendation(user_songs, dat_reco, \"discover\", 10)\n",
    "dance_playlist_avg = playlist_recommendation(user_songs, dat_reco, \"dance\", 10)\n",
    "\n",
    "# save playlists\n",
    "chill_playlist_avg.to_csv(\"03_Playlists/chill_playlist_avg.csv\")\n",
    "discover_playlist_avg.to_csv(\"03_Playlists/discover_playlist_avg.csv\")\n",
    "dance_playlist_avg.to_csv(\"03_Playlists/dance_playlist_avg.csv\")"
   ]
  },
  {
   "cell_type": "code",
   "execution_count": 7,
   "metadata": {},
   "outputs": [],
   "source": [
    "# find favorite songs\n",
    "fav_song = dat[(dat[\"Rating0-5\"] == 5) & (dat[\"top_tracks\"] == 1) & (dat[\"recently_played\"] == 1)].iloc[1, :][\"name\"]\n",
    "\n",
    "# make song-based recommendation\n",
    "chill_playlist_fav_song = playlist_recommendation(fav_song, dat_reco, \"chill\", 10)\n",
    "discover_playlist_fav_song = playlist_recommendation(fav_song, dat_reco, \"discover\", 10)\n",
    "dance_playlist_fav_song = playlist_recommendation(fav_song, dat_reco, \"dance\", 10)\n",
    "\n",
    "# save playlists\n",
    "chill_playlist_fav_song.to_csv(\"03_Playlists/chill_playlist_fav_song.csv\")\n",
    "discover_playlist_fav_song.to_csv(\"03_Playlists/discover_playlist_fav_song.csv\")\n",
    "dance_playlist_fav_song.to_csv(\"03_Playlists/dance_playlist_fav_song.csv\")"
   ]
  }
 ],
 "metadata": {
  "kernelspec": {
   "display_name": "Python 3",
   "language": "python",
   "name": "python3"
  },
  "language_info": {
   "codemirror_mode": {
    "name": "ipython",
    "version": 3
   },
   "file_extension": ".py",
   "mimetype": "text/x-python",
   "name": "python",
   "nbconvert_exporter": "python",
   "pygments_lexer": "ipython3",
   "version": "3.7.3"
  }
 },
 "nbformat": 4,
 "nbformat_minor": 4
}
