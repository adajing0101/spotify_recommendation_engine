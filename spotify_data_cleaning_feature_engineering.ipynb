{
 "cells": [
  {
   "cell_type": "code",
   "execution_count": 1,
   "metadata": {},
   "outputs": [],
   "source": [
    "import pandas as pd\n",
    "import numpy as np\n",
    "import re\n",
    "import matplotlib.pyplot as plt\n",
    "from sklearn.feature_extraction.text import TfidfVectorizer\n",
    "from sklearn.decomposition import TruncatedSVD\n",
    "from sklearn.cluster import KMeans"
   ]
  },
  {
   "cell_type": "markdown",
   "metadata": {},
   "source": [
    "## Data Consolidation\n",
    "Run the consolidation function code chunks, and then run below chunk to get consolidated user-specific, user-unspecific, and labeled data scraped from Spotify API"
   ]
  },
  {
   "cell_type": "code",
   "execution_count": 2,
   "metadata": {},
   "outputs": [],
   "source": [
    "user1 = pd.read_csv(\"01_Data/user_tracks_Benedict.csv\", index_col = 0)\n",
    "user2 = pd.read_csv(\"01_Data/user_tracks_Yannik.csv\", index_col = 0)\n",
    "user3 = pd.read_csv(\"01_Data/user_tracks_Julian.csv\", index_col = 0)\n",
    "user4 = pd.read_csv(\"01_Data/user_tracks_Glory.csv\", index_col = 0)\n",
    "user4_labeled = pd.read_csv(\"01_Data/user_tracks_Glory_labeled.csv\", index_col = 0)\n",
    "glbl = pd.read_csv(\"01_Data/user_unspecific_tracks.csv\", index_col = 0)"
   ]
  },
  {
   "cell_type": "code",
   "execution_count": 3,
   "metadata": {},
   "outputs": [],
   "source": [
    "def assign_label(df, df_label):\n",
    "    '''\n",
    "    Takes dataframe and adds labels to it to later filter for users.\n",
    "    '''\n",
    "    df[\"df_label\"] = df_label\n",
    "    return df\n",
    "    \n",
    "def drop_dupes(df):\n",
    "    '''\n",
    "    Takes dataframe and drops duplicates.\n",
    "    '''\n",
    "    df = df.drop_duplicates(subset = [\"uri\"])\n",
    "    df = df.reset_index(drop=True)\n",
    "    return df\n",
    "\n",
    "def concat_dfs(lst):\n",
    "    '''\n",
    "    Takes list of dataframes and concats them.\n",
    "    '''\n",
    "    df = pd.concat(lst)\n",
    "    return df"
   ]
  },
  {
   "cell_type": "code",
   "execution_count": 4,
   "metadata": {},
   "outputs": [],
   "source": [
    "user_dct = {\"user1\": \"Benedict\", \"user2\": \"Yannik\", \"user3\": \"Julian\", \"user4\": \"Glory\"}"
   ]
  },
  {
   "cell_type": "code",
   "execution_count": 5,
   "metadata": {},
   "outputs": [],
   "source": [
    "assign_label(user1, \"user1\")\n",
    "assign_label(user2, \"user2\")\n",
    "assign_label(user3, \"user3\")\n",
    "assign_label(user4, \"user4\")\n",
    "assign_label(user4_labeled, \"user4\")\n",
    "assign_label(glbl, \"global\")\n",
    "glbl = drop_dupes(glbl)\n",
    "dat = concat_dfs([user1, user2, user3, user4, user4_labeled, glbl])\n",
    "\n",
    "# this step is optional\n",
    "# dat.to_csv(\"01_Data/dat_raw.csv\")"
   ]
  },
  {
   "cell_type": "markdown",
   "metadata": {},
   "source": [
    "## Data Cleaning and Feature Engineering\n",
    "Run the cleaning functions code chunk, and then run below chunk to get cleaned and partially feature engineered data"
   ]
  },
  {
   "cell_type": "code",
   "execution_count": 6,
   "metadata": {},
   "outputs": [],
   "source": [
    "def drop_cols(df):\n",
    "    '''\n",
    "    Takes a dataframe and returns a dataframe with unwanted columns dropped.\n",
    "    '''  \n",
    "    df.drop(['tempo_confidence', 'overall_key_confidence', 'mode_confidence', 'time_signature_confidence',\n",
    "             'section_tempo_confidences', 'section_keys', 'section_key_confidences', 'section_modes',\n",
    "             'section_mode_confidences', 'section_time_signatures', 'section_time_signature_confidences'],\n",
    "            axis = 1, inplace = True)\n",
    "    df = df.reset_index(drop=True)\n",
    "    return df\n",
    "\n",
    "def drop_none(df):\n",
    "    '''\n",
    "    Takes a dataframe and returns a datafrmae with none values in audio features dropped.\n",
    "    '''\n",
    "    df.replace('None', np.nan, inplace=True)\n",
    "    df = df.dropna(subset = [\"acousticness\", \"danceability\", \"energy\", \"instrumentalness\", \"liveness\", \"loudness\", \"speechiness\", \"valence\", \"tempo\", \"overall_key\", \"mode\", \n",
    "                             \"time_signature\", \"num_of_sections\", \"num_of_keys\", \"num_of_modes\", \"num_of_time_signatures\", 'section_durations', 'section_loudnesses', 'section_tempos'])\n",
    "    df = df.reset_index(drop=True)\n",
    "    return df\n",
    "\n",
    "def bin_album_label(df, drop = True):\n",
    "    '''\n",
    "    Takes a dataframe and returns a dataframe with a new column 'album_label_category'.\n",
    "    Categorizes album_label into 'big label' (>= 80 songs produced by label), 'medium label' (<80 and >=11 songs produced by label), and 'small label' (<11 songs produced by label).\n",
    "    If drop = False, then the album_label and album_label_count (a feature created in this function) columns are not dropped.\n",
    "    '''\n",
    "    album_label_counts = df.groupby(['album_label']).count()['album_uri']\n",
    "    album_label_counts.name = 'album_label_count'\n",
    "\n",
    "    df = df.join(album_label_counts, on = 'album_label')\n",
    "     \n",
    "    def categorize_album_label(obs):\n",
    "        if obs >= 80:\n",
    "            return 'big_label'\n",
    "        if 80 > obs >= 11:\n",
    "            return 'medium_label'\n",
    "        else:\n",
    "            return 'small_label'\n",
    "\n",
    "    df['album_label_category'] = df['album_label_count'].apply(categorize_album_label)\n",
    "    \n",
    "    if drop == True:\n",
    "        df = df.drop(['album_label', 'album_label_count'], axis = 1)\n",
    "    \n",
    "    return df\n",
    "\n",
    "def transform_date(df):\n",
    "    '''\n",
    "    Takes dataframe, returns dataframe with new col 'release_year_from_2020'.\n",
    "    Drops 'album_release_date'.\n",
    "    'release_year_from_2020' = 2020 - year album was released\n",
    "    '''\n",
    "    df['release_year_from_2020'] = df['album_release_date'].str.extract(r'(\\d\\d\\d\\d)', expand = False)\n",
    "    df['release_year_from_2020'] = df['release_year_from_2020'].apply(lambda x: 2020 - int(x))\n",
    "    df.drop('album_release_date', axis = 1, inplace = True)\n",
    "    \n",
    "    return df\n",
    "\n",
    "def convert_duration_to_min(df):\n",
    "    '''\n",
    "    Converts miliseconds into minutes\n",
    "    '''\n",
    "    df[\"duration_minutes\"] = df[\"duration_ms\"]/60000\n",
    "    df.drop(columns=\"duration_ms\", inplace=True)\n",
    "    return df\n",
    "\n",
    "def extract_section_vars(df):\n",
    "    '''\n",
    "    Takes dataframe, returns dataframe with section variables turned into corresponding min, max, and variance columns.\n",
    "    Section variable is dropped, and 3 new columns created in its stead.\n",
    "    Drops rows that have 'None' or empty lists\n",
    "    '''\n",
    "    section_vars = ['section_durations', 'section_loudnesses', 'section_tempos']\n",
    "    \n",
    "    for var in section_vars:\n",
    "        df[var + '_variance'] = [np.var(eval(i)) if (eval(i) != 'None') & (len(eval(i)) > 0) else np.nan for i in df[var].values]\n",
    "        df[var + '_min'] = [np.min(eval(i)) if (eval(i) != 'None') & (len(eval(i)) > 0) else np.nan for i in df[var].values]\n",
    "        df[var + '_max'] = [np.max(eval(i)) if (eval(i) != 'None') & (len(eval(i)) > 0) else np.nan for i in df[var].values]\n",
    "        \n",
    "        df.drop(var, axis = 1, inplace = True)\n",
    "    \n",
    "    df = df.dropna(subset = [\"section_durations_variance\", \"section_durations_min\", \"section_durations_max\", \n",
    "                             \"section_loudnesses_variance\", \"section_loudnesses_min\", \"section_loudnesses_max\", \n",
    "                             \"section_tempos_variance\", \"section_tempos_min\", \"section_tempos_max\"])\n",
    "    df = df.reset_index(drop=True)\n",
    "    return df\n",
    "\n",
    "def convert_to_numeric(df):\n",
    "    df[[\"acousticness\", \"danceability\", \"energy\", \"instrumentalness\", \"liveness\", \"loudness\", \"speechiness\", \n",
    "       \"valence\", \"tempo\", \"overall_key\",  \"mode\", \"time_signature\", \"num_of_sections\", \"num_of_keys\", \n",
    "       \"num_of_modes\", \"num_of_time_signatures\"\n",
    "      ]] = df[[\"acousticness\", \"danceability\", \"energy\", \"instrumentalness\", \"liveness\", \"loudness\", \n",
    "                  \"speechiness\", \"valence\", \"tempo\", \"overall_key\",  \"mode\", \"time_signature\", \"num_of_sections\", \n",
    "                  \"num_of_keys\",  \"num_of_modes\", \"num_of_time_signatures\"\n",
    "              ]].apply(pd.to_numeric, errors=\"coerce\")\n",
    "    \n",
    "    return df"
   ]
  },
  {
   "cell_type": "code",
   "execution_count": 7,
   "metadata": {},
   "outputs": [
    {
     "name": "stderr",
     "output_type": "stream",
     "text": [
      "/Users/juliankleindiek/anaconda3/lib/python3.7/site-packages/IPython/core/interactiveshell.py:3057: DtypeWarning: Columns (48,49,50) have mixed types.Specify dtype option on import or set low_memory=False.\n",
      "  interactivity=interactivity, compiler=compiler, result=result)\n"
     ]
    }
   ],
   "source": [
    "dat = pd.read_csv('01_Data/dat_raw.csv', index_col = 0)\n",
    "\n",
    "dat = drop_cols(dat)\n",
    "dat = drop_none(dat)\n",
    "dat = bin_album_label(dat, drop = True)\n",
    "dat = transform_date(dat)\n",
    "dat = convert_duration_to_min(dat)\n",
    "dat = convert_to_numeric(dat)\n",
    "dat = extract_section_vars(dat)"
   ]
  },
  {
   "cell_type": "markdown",
   "metadata": {},
   "source": [
    "### Genre\n",
    "We need to find a way to aggregate genres. Hence we convert the strings into numerical values with TfidfVectorizer and then run TruncatedSVD to reduce dimensions and find common clusters with K-Means"
   ]
  },
  {
   "cell_type": "code",
   "execution_count": 8,
   "metadata": {},
   "outputs": [],
   "source": [
    "# create space-separated string cloumn for genre\n",
    "dat[\"genre_string\"] = [\" \".join(eval(i)) for i in dat[\"genre\"]]"
   ]
  },
  {
   "cell_type": "code",
   "execution_count": 9,
   "metadata": {},
   "outputs": [],
   "source": [
    "# initialize TfidfVectorizer\n",
    "vectorizer = TfidfVectorizer()\n",
    "\n",
    "# fit vecotrizer\n",
    "vectorizer.fit(dat[\"genre_string\"].values)\n",
    "\n",
    "# transform\n",
    "genres_vectorized = vectorizer.transform(dat[\"genre_string\"].values)"
   ]
  },
  {
   "cell_type": "code",
   "execution_count": 10,
   "metadata": {},
   "outputs": [],
   "source": [
    "# define function to plot elbow method\n",
    "def plot_inertia(array, start=1, end=10):\n",
    "    \n",
    "    # claculate interias\n",
    "    inertia = []\n",
    "    ks = range(start, end+1)\n",
    "    for k in ks:\n",
    "        model = KMeans(n_clusters = k, random_state = 0).fit(array)\n",
    "        inertia.append(model.inertia_)\n",
    "        \n",
    "    # plot interias\n",
    "    fig, ax = plt.subplots(figsize=(10,6))\n",
    "    plt.plot(ks, inertia, '-o')\n",
    "    ax.set_title('The elbow method')\n",
    "    ax.set_ylabel('Inertia')\n",
    "    ax.set_xlabel('Number of clusters')\n",
    "    plt.show()\n",
    "    \n",
    "    # return plot\n",
    "    return ax"
   ]
  },
  {
   "cell_type": "code",
   "execution_count": 52,
   "metadata": {},
   "outputs": [
    {
     "data": {
      "image/png": "[encoded data removed]",
      "text/plain": [
       "<Figure size 720x432 with 1 Axes>"
      ]
     },
     "metadata": {
      "needs_background": "light"
     },
     "output_type": "display_data"
    }
   ],
   "source": [
    "# apply function on vectorized data\n",
    "inertia = plot_inertia(genres_vectorized, 1, 20)"
   ]
  },
  {
   "cell_type": "code",
   "execution_count": 11,
   "metadata": {},
   "outputs": [
    {
     "data": {
      "image/png": "[encoded data removed]",
      "text/plain": [
       "<Figure size 720x432 with 1 Axes>"
      ]
     },
     "metadata": {
      "needs_background": "light"
     },
     "output_type": "display_data"
    }
   ],
   "source": [
    "# initialize TruncatedSVD\n",
    "svd = TruncatedSVD(n_components=40, random_state = 3)\n",
    "\n",
    "# fit svd and transform data\n",
    "genres_vectorized_svd = svd.fit_transform(genres_vectorized)\n",
    "\n",
    "# apply function on truncated data\n",
    "inertia = plot_inertia(genres_vectorized_svd, 1, 20)"
   ]
  },
  {
   "cell_type": "markdown",
   "metadata": {},
   "source": [
    "The elbow method reults in similar shapes for both the dimensionality-reduced and original data. The runtime of the dimensionality-reduced data is significantly faster and since the results are similar we choose to create labels for the genres using the reduced data. The ideal number of clusters appears to be 13."
   ]
  },
  {
   "cell_type": "code",
   "execution_count": 11,
   "metadata": {},
   "outputs": [],
   "source": [
    "# initialize TruncatedSVD\n",
    "svd = TruncatedSVD(n_components=40, random_state = 3)\n",
    "\n",
    "# fit svd and transform data\n",
    "genres_vectorized_svd = svd.fit_transform(genres_vectorized)\n",
    "\n",
    "# run K-Mens on original data with n_clusters = 13\n",
    "kmeans = KMeans(n_clusters = 13, random_state = 3).fit(genres_vectorized_svd)\n",
    "\n",
    "# create cluster labels\n",
    "labels = kmeans.predict(genres_vectorized_svd)\n",
    "\n",
    "# write clustered genres to data frame\n",
    "dat[\"genre_clustered\"] = labels"
   ]
  },
  {
   "cell_type": "code",
   "execution_count": 12,
   "metadata": {},
   "outputs": [
    {
     "data": {
      "text/html": [
       "<div>\n",
       "<style scoped>\n",
       "    .dataframe tbody tr th:only-of-type {\n",
       "        vertical-align: middle;\n",
       "    }\n",
       "\n",
       "    .dataframe tbody tr th {\n",
       "        vertical-align: top;\n",
       "    }\n",
       "\n",
       "    .dataframe thead th {\n",
       "        text-align: right;\n",
       "    }\n",
       "</style>\n",
       "<table border=\"1\" class=\"dataframe\">\n",
       "  <thead>\n",
       "    <tr style=\"text-align: right;\">\n",
       "      <th></th>\n",
       "      <th>artist_name</th>\n",
       "      <th>genre_string</th>\n",
       "      <th>genre_clustered</th>\n",
       "    </tr>\n",
       "  </thead>\n",
       "  <tbody>\n",
       "    <tr>\n",
       "      <th>3776</th>\n",
       "      <td>Christian Nodal</td>\n",
       "      <td>regional mexican pop</td>\n",
       "      <td>7</td>\n",
       "    </tr>\n",
       "    <tr>\n",
       "      <th>3783</th>\n",
       "      <td>Kanales</td>\n",
       "      <td>corrido regional mexican pop</td>\n",
       "      <td>7</td>\n",
       "    </tr>\n",
       "    <tr>\n",
       "      <th>3832</th>\n",
       "      <td>Banda Los Recoditos</td>\n",
       "      <td>banda grupera regional mexican regional mexica...</td>\n",
       "      <td>7</td>\n",
       "    </tr>\n",
       "    <tr>\n",
       "      <th>3878</th>\n",
       "      <td>Fuerza Regida</td>\n",
       "      <td>regional mexican pop</td>\n",
       "      <td>7</td>\n",
       "    </tr>\n",
       "    <tr>\n",
       "      <th>4063</th>\n",
       "      <td>Banda Sinaloense MS de Sergio Lizárraga</td>\n",
       "      <td>banda norteno regional mexican</td>\n",
       "      <td>7</td>\n",
       "    </tr>\n",
       "    <tr>\n",
       "      <th>...</th>\n",
       "      <td>...</td>\n",
       "      <td>...</td>\n",
       "      <td>...</td>\n",
       "    </tr>\n",
       "    <tr>\n",
       "      <th>23437</th>\n",
       "      <td>Fuerza Regida</td>\n",
       "      <td>regional mexican pop</td>\n",
       "      <td>7</td>\n",
       "    </tr>\n",
       "    <tr>\n",
       "      <th>23702</th>\n",
       "      <td>Fuerza Regida</td>\n",
       "      <td>regional mexican pop</td>\n",
       "      <td>7</td>\n",
       "    </tr>\n",
       "    <tr>\n",
       "      <th>24060</th>\n",
       "      <td>Espinoza Paz</td>\n",
       "      <td>banda grupera norteno ranchera regional mexican</td>\n",
       "      <td>7</td>\n",
       "    </tr>\n",
       "    <tr>\n",
       "      <th>24080</th>\n",
       "      <td>Joan Sebastian</td>\n",
       "      <td>banda grupera norteno regional mexican</td>\n",
       "      <td>7</td>\n",
       "    </tr>\n",
       "    <tr>\n",
       "      <th>24391</th>\n",
       "      <td>Banda Sinaloense MS de Sergio Lizárraga</td>\n",
       "      <td>banda norteno regional mexican</td>\n",
       "      <td>7</td>\n",
       "    </tr>\n",
       "  </tbody>\n",
       "</table>\n",
       "<p>412 rows × 3 columns</p>\n",
       "</div>"
      ],
      "text/plain": [
       "                                   artist_name  \\\n",
       "3776                           Christian Nodal   \n",
       "3783                                   Kanales   \n",
       "3832                       Banda Los Recoditos   \n",
       "3878                             Fuerza Regida   \n",
       "4063   Banda Sinaloense MS de Sergio Lizárraga   \n",
       "...                                        ...   \n",
       "23437                            Fuerza Regida   \n",
       "23702                            Fuerza Regida   \n",
       "24060                             Espinoza Paz   \n",
       "24080                           Joan Sebastian   \n",
       "24391  Banda Sinaloense MS de Sergio Lizárraga   \n",
       "\n",
       "                                            genre_string  genre_clustered  \n",
       "3776                                regional mexican pop                7  \n",
       "3783                        corrido regional mexican pop                7  \n",
       "3832   banda grupera regional mexican regional mexica...                7  \n",
       "3878                                regional mexican pop                7  \n",
       "4063                      banda norteno regional mexican                7  \n",
       "...                                                  ...              ...  \n",
       "23437                               regional mexican pop                7  \n",
       "23702                               regional mexican pop                7  \n",
       "24060    banda grupera norteno ranchera regional mexican                7  \n",
       "24080             banda grupera norteno regional mexican                7  \n",
       "24391                     banda norteno regional mexican                7  \n",
       "\n",
       "[412 rows x 3 columns]"
      ]
     },
     "execution_count": 12,
     "metadata": {},
     "output_type": "execute_result"
    }
   ],
   "source": [
    "# investigate cluster\n",
    "c = 7\n",
    "dat[[\"artist_name\", \"genre_string\", \"genre_clustered\"]][dat[\"genre_clustered\"] == c]"
   ]
  },
  {
   "cell_type": "code",
   "execution_count": 13,
   "metadata": {},
   "outputs": [],
   "source": [
    "# create dictionary with clusters\n",
    "cluster_dct = {0:\"hip hop\", \n",
    "               1:\"indie\", \n",
    "               2:\"misc\", \n",
    "               3:\"baroque classic\", \n",
    "               4:\"classical\", \n",
    "               5:\"country\", \n",
    "               6:\"pop\", \n",
    "               7:\"mexican\",\n",
    "               8:\"alternative metal/rock\", \n",
    "               9:\"rock\",\n",
    "               10:\"rap\",\n",
    "               11:\"background\",\n",
    "               12:\"house\"}"
   ]
  },
  {
   "cell_type": "code",
   "execution_count": 14,
   "metadata": {},
   "outputs": [],
   "source": [
    "# create genre_agg column and drop other columns\n",
    "dat[\"genre_agg\"] = [cluster_dct[i] for i in dat[\"genre_clustered\"].values]\n",
    "dat.drop([\"genre_clustered\", \"genre_string\", \"genre\"], axis = 1, inplace = True)\n",
    "dat = dat.reset_index(drop=True)"
   ]
  },
  {
   "cell_type": "code",
   "execution_count": 15,
   "metadata": {},
   "outputs": [
    {
     "data": {
      "image/png": "[encoded data removed]",
      "text/plain": [
       "<Figure size 432x288 with 1 Axes>"
      ]
     },
     "metadata": {
      "needs_background": "light"
     },
     "output_type": "display_data"
    }
   ],
   "source": [
    "# visualize data\n",
    "plot = dat[\"genre_agg\"].value_counts().plot(kind=\"bar\")"
   ]
  },
  {
   "cell_type": "markdown",
   "metadata": {},
   "source": [
    "### User Selection"
   ]
  },
  {
   "cell_type": "code",
   "execution_count": 16,
   "metadata": {},
   "outputs": [],
   "source": [
    "def drop_dupes_user(df, user):\n",
    "    '''\n",
    "    Remaining duplicates in our dataset need do be removed depending on the user that subsequent analysis \n",
    "    is based on. In the following code chunks, a user is selected and all duplicates from the user-unspecific \n",
    "    data are removed.\n",
    "    '''\n",
    "    \n",
    "    # assign dropping order\n",
    "    for i in range(len(df[\"df_label\"])):\n",
    "        # labeled song\n",
    "        if (df.loc[i, \"df_label\"] == user) & (np.isnan(df.loc[i, \"Rating01\"]) != True):\n",
    "            df.loc[i, \"drop_prio\"] = 3\n",
    "        # user song\n",
    "        elif (df.loc[i, \"df_label\"] == user) & (np.isnan(df.loc[i, \"Rating01\"]) == True):\n",
    "            df.loc[i, \"drop_prio\"] = 2\n",
    "        # user unspecific song\n",
    "        elif (df.loc[i, \"df_label\"] != user):\n",
    "            df.loc[i, \"drop_prio\"] = 1\n",
    "    # sort values in dropping order\n",
    "    df = df.sort_values(\"drop_prio\")\n",
    "    # drop duplicates, keeping the last ones\n",
    "    df = df.drop_duplicates(subset = [\"uri\"], keep = \"last\")\n",
    "    # resort values\n",
    "    df = df.sort_index()\n",
    "    # reset index\n",
    "    df = df.reset_index(drop=True)\n",
    "    # drop drop_prio column\n",
    "    df.drop(columns = [\"drop_prio\"], inplace = True)\n",
    "    # return results\n",
    "    return df"
   ]
  },
  {
   "cell_type": "code",
   "execution_count": 17,
   "metadata": {},
   "outputs": [],
   "source": [
    "dat = drop_dupes_user(dat, \"user4\")"
   ]
  },
  {
   "cell_type": "markdown",
   "metadata": {},
   "source": [
    "### Get Dummies"
   ]
  },
  {
   "cell_type": "code",
   "execution_count": 18,
   "metadata": {},
   "outputs": [],
   "source": [
    "def dummy_code_categoricals(df):\n",
    "    '''\n",
    "    Takes df and returns df with dummy coded categorical variables.\n",
    "    Explicit with 1 = explicit, 0 = not.\n",
    "    Converts recently_played, saved_tracks, and top_tracks into 1 = yes and 0 = no\n",
    "    Album label category with 'small label' as reference class. \n",
    "    '''\n",
    "    \n",
    "    df_dummies = pd.get_dummies(df['album_label_category'], prefix = 'album')\n",
    "    df_dummies.reset_index(drop = True, inplace = True)\n",
    "    df.reset_index(drop = True, inplace = True)\n",
    "    df = pd.concat([df, df_dummies], axis = 1).drop(['album_label_category', 'album_small_label'], axis = 1)\n",
    "    \n",
    "    df_dummies = pd.get_dummies(df['genre_agg'], prefix = 'genre')\n",
    "    df_dummies.reset_index(drop = True, inplace = True)\n",
    "    df.reset_index(drop = True, inplace = True)\n",
    "    df = pd.concat([df, df_dummies], axis = 1).drop(['genre_agg', 'genre_misc'], axis = 1)\n",
    "    \n",
    "    df['explicit'] = df['explicit']*1\n",
    "    \n",
    "    for i in range(len(df[\"name\"])):\n",
    "        if (df.loc[i, \"recently_played\"] == \"True\"):\n",
    "            df.loc[i, \"recently_played\"] = 1\n",
    "        elif (df.loc[i, \"recently_played\"] == \"False\"):\n",
    "            df.loc[i, \"recently_played\"] = 0\n",
    "    for i in range(len(df[\"name\"])):\n",
    "        if (df.loc[i, \"saved_tracks\"] == \"True\"):\n",
    "            df.loc[i, \"saved_tracks\"] = 1\n",
    "        elif (df.loc[i, \"saved_tracks\"] == \"False\"):\n",
    "            df.loc[i, \"saved_tracks\"] = 0\n",
    "    for i in range(len(df[\"name\"])):\n",
    "        if (df.loc[i, \"top_tracks\"] == \"True\"):\n",
    "            df.loc[i, \"top_tracks\"] = 1\n",
    "        elif (df.loc[i, \"top_tracks\"] == \"False\"):\n",
    "            df.loc[i, \"top_tracks\"] = 0\n",
    "            \n",
    "    df[[\"recently_played\", \"saved_tracks\", \"top_tracks\"]] = df[[\"recently_played\", \n",
    "                                                                \"saved_tracks\", \n",
    "                                                                \"top_tracks\"]].apply(pd.to_numeric, errors=\"coerce\")\n",
    "\n",
    "    return df"
   ]
  },
  {
   "cell_type": "code",
   "execution_count": 19,
   "metadata": {},
   "outputs": [
    {
     "name": "stdout",
     "output_type": "stream",
     "text": [
      "<class 'pandas.core.frame.DataFrame'>\n",
      "RangeIndex: 21445 entries, 0 to 21444\n",
      "Data columns (total 49 columns):\n",
      " #   Column                       Non-Null Count  Dtype  \n",
      "---  ------                       --------------  -----  \n",
      " 0   name                         21445 non-null  object \n",
      " 1   uri                          21445 non-null  object \n",
      " 2   album_uri                    21445 non-null  object \n",
      " 3   album_name                   21445 non-null  object \n",
      " 4   album_popularity             21445 non-null  int64  \n",
      " 5   artist_uri                   21445 non-null  object \n",
      " 6   artist_name                  21445 non-null  object \n",
      " 7   artist_popularity            21445 non-null  int64  \n",
      " 8   artist_followers             21445 non-null  int64  \n",
      " 9   explicit                     21445 non-null  int64  \n",
      " 10  popularity                   21445 non-null  int64  \n",
      " 11  track_number                 21445 non-null  int64  \n",
      " 12  acousticness                 21445 non-null  float64\n",
      " 13  danceability                 21445 non-null  float64\n",
      " 14  energy                       21445 non-null  float64\n",
      " 15  instrumentalness             21445 non-null  float64\n",
      " 16  liveness                     21445 non-null  float64\n",
      " 17  loudness                     21445 non-null  float64\n",
      " 18  speechiness                  21445 non-null  float64\n",
      " 19  valence                      21445 non-null  float64\n",
      " 20  tempo                        21445 non-null  float64\n",
      " 21  overall_key                  21445 non-null  int64  \n",
      " 22  mode                         21445 non-null  int64  \n",
      " 23  time_signature               21445 non-null  int64  \n",
      " 24  num_of_sections              21445 non-null  int64  \n",
      " 25  num_of_keys                  21445 non-null  int64  \n",
      " 26  num_of_modes                 21445 non-null  int64  \n",
      " 27  num_of_time_signatures       21445 non-null  int64  \n",
      " 28  df_label                     21445 non-null  object \n",
      " 29  recently_played              726 non-null    float64\n",
      " 30  saved_tracks                 726 non-null    float64\n",
      " 31  top_tracks                   726 non-null    float64\n",
      " 32  Rating01                     374 non-null    float64\n",
      " 33  Rating0-5                    374 non-null    float64\n",
      " 34  AddPlylst01                  374 non-null    float64\n",
      " 35  release_year_from_2020       21445 non-null  int64  \n",
      " 36  duration_minutes             21445 non-null  float64\n",
      " 37  section_durations_variance   21445 non-null  float64\n",
      " 38  section_durations_min        21445 non-null  float64\n",
      " 39  section_durations_max        21445 non-null  float64\n",
      " 40  section_loudnesses_variance  21445 non-null  float64\n",
      " 41  section_loudnesses_min       21445 non-null  float64\n",
      " 42  section_loudnesses_max       21445 non-null  float64\n",
      " 43  section_tempos_variance      21445 non-null  float64\n",
      " 44  section_tempos_min           21445 non-null  float64\n",
      " 45  section_tempos_max           21445 non-null  float64\n",
      " 46  genre_agg                    21445 non-null  object \n",
      " 47  album_big_label              21445 non-null  uint8  \n",
      " 48  album_medium_label           21445 non-null  uint8  \n",
      "dtypes: float64(25), int64(14), object(8), uint8(2)\n",
      "memory usage: 7.7+ MB\n"
     ]
    }
   ],
   "source": [
    "dat = dummy_code_categoricals(dat)\n",
    "dat.info()"
   ]
  },
  {
   "cell_type": "code",
   "execution_count": 20,
   "metadata": {},
   "outputs": [],
   "source": [
    "# this final step is optional\n",
    "# dat.to_csv(\"01_Data/spotify_dat.csv\")"
   ]
  }
 ],
 "metadata": {
  "kernelspec": {
   "display_name": "Python 3",
   "language": "python",
   "name": "python3"
  },
  "language_info": {
   "codemirror_mode": {
    "name": "ipython",
    "version": 3
   },
   "file_extension": ".py",
   "mimetype": "text/x-python",
   "name": "python",
   "nbconvert_exporter": "python",
   "pygments_lexer": "ipython3",
   "version": "3.7.3"
  }
 },
 "nbformat": 4,
 "nbformat_minor": 4
}
