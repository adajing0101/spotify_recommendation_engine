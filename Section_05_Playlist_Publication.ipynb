{
 "cells": [
  {
   "cell_type": "markdown",
   "metadata": {},
   "source": [
    "# Spotify RecSys Engine | Data Mining - Final Project\n",
    "\n",
    "## Section 5: Playlist creation for beta testing\n",
    "\n"
   ]
  },
  {
   "cell_type": "code",
   "execution_count": 63,
   "metadata": {},
   "outputs": [
    {
     "name": "stdout",
     "output_type": "stream",
     "text": [
      "The jupyternotify extension is already loaded. To reload it, use:\n",
      "  %reload_ext jupyternotify\n"
     ]
    }
   ],
   "source": [
    "import numpy as np\n",
    "import pandas as pd\n",
    "from pandas.io.json import json_normalize\n",
    "import requests\n",
    "import json\n",
    "import random\n",
    "from random import choice, randrange\n",
    "import urllib\n",
    "import urllib.parse\n",
    "from pprint import pprint\n",
    "import webbrowser\n",
    "import base64\n",
    "from collections import MutableMapping \n",
    "import string\n",
    "import os\n",
    "import time\n",
    "from math import floor\n",
    "%load_ext jupyternotify\n"
   ]
  },
  {
   "cell_type": "markdown",
   "metadata": {},
   "source": [
    "### Global variables\n",
    "\n",
    "We first read in a file that contains the client API keys, as define various global variables. "
   ]
  },
  {
   "cell_type": "code",
   "execution_count": 70,
   "metadata": {},
   "outputs": [],
   "source": [
    "# .py file that includes CLIENT_ID and CLIENT_SECRET keys\n",
    "from client_info import * \n",
    "\n",
    "# call-back URL for OAuth 2.0\n",
    "redirect_uri = \"https://example.com/callback\" \n",
    "\n",
    "# list of Spotify account scopes/user permissions to request\n",
    "scopes_list = [\"ugc-image-upload\", \n",
    "    \"user-read-playback-state\", \n",
    "    \"user-modify-playback-state\", \n",
    "    \"user-read-currently-playing\", \n",
    "    \"streaming\", \n",
    "    \"app-remote-control\", \n",
    "    \"user-read-email\",                \n",
    "    \"user-read-private\", \n",
    "    \"playlist-read-collaborative\", \n",
    "    \"playlist-modify-public\", \n",
    "    \"playlist-read-private\", \n",
    "    \"playlist-modify-private\", \n",
    "    \"user-library-modify\", \n",
    "    \"user-library-read\", \n",
    "    \"user-top-read\", \n",
    "    \"user-read-recently-played\", \n",
    "    \"user-follow-read\", \n",
    "    \"user-follow-modify\"\n",
    "] \n",
    "scope_string = '%20'.join(scopes_list)\n",
    "\n",
    "# user_data_dict endpoint:\"https://api.spotify.com/v1/me/\"\n",
    "\n",
    "# exhaustive list of categories of data available regarding a Spotify user\n",
    "user_data_dict = {\n",
    "    \"profile\":\"\"\n",
    "}\n"
   ]
  },
  {
   "cell_type": "markdown",
   "metadata": {},
   "source": [
    "### Section 5.1: HTTP requests and OAuth 2.0 protocol\n",
    "\n",
    "We use the `requests` module to perform `GET` and `POST` requests. Whilst there exists a SpotiPy package out there, building our own implementation allows for a more specific and flexible program for our application. \n",
    "\n",
    "We initialise by requesting the user's authentication through the Spotify authorisation endpoint. The following function would open a new tab and asks the user to log in and grant the list of permissions detailed in `scopes_list`. Then the user will be re-directed to a callback URL which contains a `code` and a `state`,  with which we then use to request `refresh` and `access` tokens. Access tokens time out after 3600 s, and so the refresh token is used to periodically request new access tokens. \n"
   ]
  },
  {
   "cell_type": "code",
   "execution_count": 65,
   "metadata": {},
   "outputs": [],
   "source": [
    "def user_auth():\n",
    "    # request user authorization and request refresh and access tokens\n",
    "    options_dict = {\"client_id\":CLIENT_ID,\n",
    "        \"response_type\":\"code\",\n",
    "        \"redirect_uri\":urllib.parse.quote_plus(redirect_uri),\n",
    "        \"state\":str(random.getrandbits(128)),\n",
    "        \"scope\":scope_string,\n",
    "        \"show_dialog\":\"true\"\n",
    "        }\n",
    "    endpoint = \"https://accounts.spotify.com/authorize\"\n",
    "    r = requests.get(endpoint + \"?\" + \"&\".join([key + \"=\" + value for key, value in options_dict.items()]), allow_redirects=True)\n",
    "    webbrowser.open(r.url) \n",
    "    callback_url = input(\"Enter the callback URL provided upon authentication: \")\n",
    "    code = callback_url.strip(\"https://example.com/callback?code=\").split(\"&state=\")[0]\n",
    "    state = callback_url.strip(\"https://example.com/callback?code=\").split(\"&state=\")[1]\n",
    "    auth_str = '{}:{}'.format(CLIENT_ID, CLIENT_SECRET)\n",
    "    b64_auth_str = base64.b64encode(auth_str.encode()).decode()\n",
    "    header = {'Authorization':'Basic {}'.format(b64_auth_str)}\n",
    "    data = {\n",
    "        'grant_type':'authorization_code',\n",
    "        'code':code,\n",
    "        'redirect_uri':redirect_uri\n",
    "        }\n",
    "    auth = requests.post('https://accounts.spotify.com/api/token', headers=header, data=data)\n",
    "    global auth_json\n",
    "    auth_json = json.loads(auth.text)\n"
   ]
  },
  {
   "cell_type": "markdown",
   "metadata": {},
   "source": [
    "The following function requests new access tokens with the refresh token. "
   ]
  },
  {
   "cell_type": "code",
   "execution_count": 66,
   "metadata": {},
   "outputs": [],
   "source": [
    "def get_token(auth_json):\n",
    "    # request new tokens using refresh_token\n",
    "    client_auth_str = '{}:{}'.format(CLIENT_ID, CLIENT_SECRET)\n",
    "    b64_client_auth_str = base64.b64encode(client_auth_str.encode()).decode()\n",
    "    header = {'Authorization':'Basic {}'.format(b64_client_auth_str)}\n",
    "    data = {\"grant_type\":\"refresh_token\", \"refresh_token\":auth_json[\"refresh_token\"]}\n",
    "    global refresh\n",
    "    refresh = requests.post('https://accounts.spotify.com/api/token', headers=header, data=data)\n",
    "    refresh_json = json.loads(refresh.text)\n",
    "    global refreshed_token\n",
    "    refreshed_token = refresh_json[\"access_token\"]\n"
   ]
  },
  {
   "cell_type": "markdown",
   "metadata": {},
   "source": [
    "### Section 5.2: Acquiring Spotify ID\n",
    "\n",
    "The user's Spptify ID is required in the creation of a playlist through the API. The ID is stored within the user profile."
   ]
  },
  {
   "cell_type": "code",
   "execution_count": 104,
   "metadata": {},
   "outputs": [],
   "source": [
    "def get_user_data(user_element):\n",
    "    # request an aspect of user data\n",
    "    get_token(auth_json)\n",
    "    headers = {\n",
    "        'Accept':'application/json',\n",
    "        'Content-Type':'application/json',\n",
    "        'Authorization':'Bearer {}'.format(refreshed_token)\n",
    "        }\n",
    "    endpoint = \"https://api.spotify.com/v1/me/\"\n",
    "    url = endpoint + user_data_dict[user_element]\n",
    "    user_info = requests.get(url=url, headers=headers)\n",
    "    user_info_dict = json.loads(user_info.text)\n",
    "    if \"next\" in user_info_dict and user_info_dict[\"next\"] is not None:\n",
    "        more_user_info_url = user_info_dict[\"next\"] \n",
    "        while  more_user_info_url is not None:\n",
    "            get_token(auth_json)\n",
    "            # grab more user data if total > limit=50\n",
    "            headers = {\n",
    "                'Accept':'application/json',\n",
    "                'Content-Type':'application/json',\n",
    "                'Authorization':'Bearer {}'.format(refreshed_token)\n",
    "                }\n",
    "            more_user_info = requests.get(url=more_user_info_url, headers=headers) #\n",
    "            more_user_info_dict = json.loads(more_user_info.text) # \n",
    "            more_user_info_url = more_user_info_dict[\"next\"] #\n",
    "            user_info_dict[\"items\"].extend(more_user_info_dict[\"items\"]) \n",
    "    return user_info_dict\n",
    "\n",
    "def get_master_user_profile():\n",
    "    # request all user data and assemble dict\n",
    "    global master_user_profile\n",
    "    master_user_profile = {key:get_user_data(key) for key in user_data_dict}\n"
   ]
  },
  {
   "cell_type": "markdown",
   "metadata": {},
   "source": [
    "## Section 5.3: Playlist creation\n",
    "\n",
    "With the various sample playlists created using ML methods, we now performed a blind test to see if the user likes the playlists. The playlists are loaded in as `.csv` files, with a column populated by Spotify track URI's. We assign random numbers to each of the playlists and ask if the user can identify if it belongs to one of the three categories (1) Chill, (2) Dance, (3) Discover. \n",
    "\n",
    "The user should listen to the tracks within each playlist with Shuffle mode on. \n",
    "\n",
    "Store all playlists in a sub-directory `./Test_Playlists/`. This code handles playlists up to 100 tracks in length. "
   ]
  },
  {
   "cell_type": "code",
   "execution_count": 108,
   "metadata": {},
   "outputs": [],
   "source": [
    "from os import listdir\n",
    "from os.path import isfile, join\n",
    "import csv\n",
    "\n",
    "def create_test_playlists():\n",
    "    user_auth()\n",
    "    mypath = \"./Test_Playlists/\"\n",
    "    playlists_csvs = [mypath + f for f in listdir(mypath) if isfile(join(mypath, f))]\n",
    "    playlist_ids = list(range(len(playlists_csvs)))\n",
    "    playlist_ids = [\"Test_Playlist_\" + str(id) for id in playlist_ids]\n",
    "    random.shuffle(playlist_ids)\n",
    "    encoded_playlists = list(zip(playlist_ids, playlists_csvs))\n",
    "    with open(\"encoded_playlists.csv\",\"w+\") as f:\n",
    "        csvWriter = csv.writer(f,delimiter=',')\n",
    "        csvWriter.writerows(encoded_playlists)\n",
    "\n",
    "    for encoded_playlist in encoded_playlists: \n",
    "        encoded = encoded_playlist[0]\n",
    "        path = encoded_playlist[1]\n",
    "        playlist_pd = pd.read_csv(path)[[\"name\", \"artist_name\",\"uri\"]]\n",
    "        playlist_pd.to_csv(mypath + encoded + \".csv\", index=False)\n",
    "        track_uris = playlist_pd[\"uri\"].values.tolist()\n",
    "        get_token(auth_json)\n",
    "        headers = {\n",
    "            'Accept':'application/json',\n",
    "            'Content-Type':'application/json',\n",
    "            'Authorization':'Bearer {}'.format(refreshed_token)\n",
    "            }\n",
    "        create_playlist_endpoint = \"https://api.spotify.com/v1/users/{}/playlists\".format(user_id)\n",
    "        create_playlist_param = {\n",
    "            \"name\":encoded,\n",
    "            \"description\":\"BA@UChicagoMSCA\"\n",
    "        }\n",
    "        create_playlist = requests.post(create_playlist_endpoint, headers=headers, data=json.dumps(create_playlist_param))\n",
    "        create_playlist_dict = json.loads(create_playlist.text)\n",
    "        created_playlist_uri = create_playlist_dict[\"uri\"].split(\":\")[2]  \n",
    "\n",
    "        get_token(auth_json)\n",
    "        headers = {\n",
    "            'Accept':'application/json',\n",
    "            'Content-Type':'application/json',\n",
    "            'Authorization':'Bearer {}'.format(refreshed_token)\n",
    "            }\n",
    "        add_tracks_to_playlist_endpoint = \"https://api.spotify.com/v1/playlists/{}/tracks\".format(created_playlist_uri)\n",
    "        add_tracks_param = {\n",
    "                \"uris\":track_uris\n",
    "        }\n",
    "        add_tracks = requests.post(add_tracks_to_playlist_endpoint, headers=headers, data=json.dumps(add_tracks_param))\n",
    "        add_tracks_dict = json.loads(add_tracks.text)\n"
   ]
  },
  {
   "cell_type": "code",
   "execution_count": 109,
   "metadata": {},
   "outputs": [],
   "source": [
    "create_test_playlists()"
   ]
  },
  {
   "cell_type": "code",
   "execution_count": null,
   "metadata": {},
   "outputs": [],
   "source": []
  },
  {
   "cell_type": "code",
   "execution_count": null,
   "metadata": {},
   "outputs": [],
   "source": []
  },
  {
   "cell_type": "code",
   "execution_count": null,
   "metadata": {},
   "outputs": [],
   "source": []
  },
  {
   "cell_type": "code",
   "execution_count": null,
   "metadata": {},
   "outputs": [],
   "source": []
  },
  {
   "cell_type": "code",
   "execution_count": null,
   "metadata": {},
   "outputs": [],
   "source": []
  }
 ],
 "metadata": {
  "kernelspec": {
   "display_name": "Python 3",
   "language": "python",
   "name": "python3"
  },
  "language_info": {
   "codemirror_mode": {
    "name": "ipython",
    "version": 3
   },
   "file_extension": ".py",
   "mimetype": "text/x-python",
   "name": "python",
   "nbconvert_exporter": "python",
   "pygments_lexer": "ipython3",
   "version": "3.6.10"
  }
 },
 "nbformat": 4,
 "nbformat_minor": 4
}
