{
 "cells": [
  {
   "cell_type": "markdown",
   "metadata": {},
   "source": [
    "# Regression Algorithms to Predict Ratings of Spotify Songs"
   ]
  },
  {
   "cell_type": "markdown",
   "metadata": {},
   "source": [
    "**This notebook trains classical, tree-based, bagging and boosting regression models using a user rated playlist and predicts reviews on a global spotify dataset to further create playlists based on audio attributes. The following playlists will be outputed for the user:<br/>**\n",
    "    - Chill Playlist\n",
    "    - Dance Playlist\n",
    "    - Unpopular/Discover Playlist\n",
    "**Regression Models used:<br/>**\n",
    "    - Linear Regression\n",
    "    - Decision Trees \n",
    "    - Random Forest\n",
    "    - Ada Boosting\n",
    "**Evaluation methods: <br/>**\n",
    "    - Root Mean Squared Error\n",
    "    - Cross Validation Error"
   ]
  },
  {
   "cell_type": "code",
   "execution_count": 1,
   "metadata": {},
   "outputs": [],
   "source": [
    "import pandas as pd\n",
    "import numpy as np\n",
    "import matplotlib.pyplot as plt\n",
    "import seaborn as sns\n",
    "import datetime\n",
    "import warnings\n",
    "warnings.filterwarnings('ignore')\n",
    "%matplotlib inline"
   ]
  },
  {
   "cell_type": "code",
   "execution_count": 2,
   "metadata": {},
   "outputs": [],
   "source": [
    "df = pd.read_csv('spotify_dat.csv')"
   ]
  },
  {
   "cell_type": "code",
   "execution_count": 3,
   "metadata": {},
   "outputs": [
    {
     "data": {
      "text/html": [
       "<div>\n",
       "<style scoped>\n",
       "    .dataframe tbody tr th:only-of-type {\n",
       "        vertical-align: middle;\n",
       "    }\n",
       "\n",
       "    .dataframe tbody tr th {\n",
       "        vertical-align: top;\n",
       "    }\n",
       "\n",
       "    .dataframe thead th {\n",
       "        text-align: right;\n",
       "    }\n",
       "</style>\n",
       "<table border=\"1\" class=\"dataframe\">\n",
       "  <thead>\n",
       "    <tr style=\"text-align: right;\">\n",
       "      <th></th>\n",
       "      <th>Unnamed: 0</th>\n",
       "      <th>name</th>\n",
       "      <th>uri</th>\n",
       "      <th>album_uri</th>\n",
       "      <th>album_name</th>\n",
       "      <th>album_popularity</th>\n",
       "      <th>artist_uri</th>\n",
       "      <th>artist_name</th>\n",
       "      <th>artist_popularity</th>\n",
       "      <th>artist_followers</th>\n",
       "      <th>...</th>\n",
       "      <th>overall_key_2</th>\n",
       "      <th>overall_key_3</th>\n",
       "      <th>overall_key_4</th>\n",
       "      <th>overall_key_5</th>\n",
       "      <th>overall_key_6</th>\n",
       "      <th>overall_key_7</th>\n",
       "      <th>overall_key_8</th>\n",
       "      <th>overall_key_9</th>\n",
       "      <th>overall_key_10</th>\n",
       "      <th>overall_key_11</th>\n",
       "    </tr>\n",
       "  </thead>\n",
       "  <tbody>\n",
       "    <tr>\n",
       "      <th>0</th>\n",
       "      <td>0</td>\n",
       "      <td>Keep It Alive! Instro (Instrumental)</td>\n",
       "      <td>spotify:track:0nDyuRDSaYF0Zf9XHpKFsU</td>\n",
       "      <td>spotify:album:21J9q0qN5O76XkGVUQLsM9</td>\n",
       "      <td>Windmills of the Soul Instrumentals</td>\n",
       "      <td>41</td>\n",
       "      <td>spotify:artist:5EXuZB9s9F3ezkS7zpV8d1</td>\n",
       "      <td>Kero One</td>\n",
       "      <td>45</td>\n",
       "      <td>37949</td>\n",
       "      <td>...</td>\n",
       "      <td>0</td>\n",
       "      <td>0</td>\n",
       "      <td>0</td>\n",
       "      <td>0</td>\n",
       "      <td>0</td>\n",
       "      <td>0</td>\n",
       "      <td>0</td>\n",
       "      <td>0</td>\n",
       "      <td>1</td>\n",
       "      <td>0</td>\n",
       "    </tr>\n",
       "    <tr>\n",
       "      <th>1</th>\n",
       "      <td>1</td>\n",
       "      <td>Take Time</td>\n",
       "      <td>spotify:track:2QqAVlaV6Y45ebsXxfS5i8</td>\n",
       "      <td>spotify:album:2LlpsGgyRXwpGYSrD7yuFQ</td>\n",
       "      <td>Matte Black Soul</td>\n",
       "      <td>42</td>\n",
       "      <td>spotify:artist:2M9OIHcdVSxhPVCYQ3z5Rf</td>\n",
       "      <td>Awon</td>\n",
       "      <td>52</td>\n",
       "      <td>15673</td>\n",
       "      <td>...</td>\n",
       "      <td>0</td>\n",
       "      <td>0</td>\n",
       "      <td>0</td>\n",
       "      <td>0</td>\n",
       "      <td>0</td>\n",
       "      <td>0</td>\n",
       "      <td>0</td>\n",
       "      <td>1</td>\n",
       "      <td>0</td>\n",
       "      <td>0</td>\n",
       "    </tr>\n",
       "    <tr>\n",
       "      <th>2</th>\n",
       "      <td>2</td>\n",
       "      <td>Heart of Courage</td>\n",
       "      <td>spotify:track:4JtvyWkWQTPVcroZf8JJkp</td>\n",
       "      <td>spotify:album:0zOdkaCbYN1B42zw8TUYlY</td>\n",
       "      <td>Invincible</td>\n",
       "      <td>67</td>\n",
       "      <td>spotify:artist:6BF0bXbsdujMSMeFZBGcBq</td>\n",
       "      <td>Thomas Bergersen</td>\n",
       "      <td>71</td>\n",
       "      <td>145336</td>\n",
       "      <td>...</td>\n",
       "      <td>0</td>\n",
       "      <td>0</td>\n",
       "      <td>0</td>\n",
       "      <td>0</td>\n",
       "      <td>0</td>\n",
       "      <td>0</td>\n",
       "      <td>0</td>\n",
       "      <td>0</td>\n",
       "      <td>0</td>\n",
       "      <td>0</td>\n",
       "    </tr>\n",
       "    <tr>\n",
       "      <th>3</th>\n",
       "      <td>3</td>\n",
       "      <td>See You All</td>\n",
       "      <td>spotify:track:5N6ExqlJEaxbxuZLTq4ZpR</td>\n",
       "      <td>spotify:album:5P6LOcFYoRoLlh4TDxuSFY</td>\n",
       "      <td>Goodbye</td>\n",
       "      <td>39</td>\n",
       "      <td>spotify:artist:6EfilTfy7TJQI7KXitffIq</td>\n",
       "      <td>Koudlam</td>\n",
       "      <td>37</td>\n",
       "      <td>11998</td>\n",
       "      <td>...</td>\n",
       "      <td>0</td>\n",
       "      <td>0</td>\n",
       "      <td>0</td>\n",
       "      <td>0</td>\n",
       "      <td>0</td>\n",
       "      <td>0</td>\n",
       "      <td>0</td>\n",
       "      <td>0</td>\n",
       "      <td>0</td>\n",
       "      <td>1</td>\n",
       "    </tr>\n",
       "    <tr>\n",
       "      <th>4</th>\n",
       "      <td>4</td>\n",
       "      <td>I'm So</td>\n",
       "      <td>spotify:track:6gQI4RLH0RLwNMyyz8JIQ3</td>\n",
       "      <td>spotify:album:4uWPjCwslbnaA8JANTBjaU</td>\n",
       "      <td>Andrew Applepie</td>\n",
       "      <td>45</td>\n",
       "      <td>spotify:artist:5BYcwjrQth7em7maAt0yKE</td>\n",
       "      <td>Andrew Applepie</td>\n",
       "      <td>55</td>\n",
       "      <td>49244</td>\n",
       "      <td>...</td>\n",
       "      <td>0</td>\n",
       "      <td>1</td>\n",
       "      <td>0</td>\n",
       "      <td>0</td>\n",
       "      <td>0</td>\n",
       "      <td>0</td>\n",
       "      <td>0</td>\n",
       "      <td>0</td>\n",
       "      <td>0</td>\n",
       "      <td>0</td>\n",
       "    </tr>\n",
       "  </tbody>\n",
       "</table>\n",
       "<p>5 rows × 74 columns</p>\n",
       "</div>"
      ],
      "text/plain": [
       "   Unnamed: 0                                  name  \\\n",
       "0           0  Keep It Alive! Instro (Instrumental)   \n",
       "1           1                             Take Time   \n",
       "2           2                      Heart of Courage   \n",
       "3           3                           See You All   \n",
       "4           4                                I'm So   \n",
       "\n",
       "                                    uri                             album_uri  \\\n",
       "0  spotify:track:0nDyuRDSaYF0Zf9XHpKFsU  spotify:album:21J9q0qN5O76XkGVUQLsM9   \n",
       "1  spotify:track:2QqAVlaV6Y45ebsXxfS5i8  spotify:album:2LlpsGgyRXwpGYSrD7yuFQ   \n",
       "2  spotify:track:4JtvyWkWQTPVcroZf8JJkp  spotify:album:0zOdkaCbYN1B42zw8TUYlY   \n",
       "3  spotify:track:5N6ExqlJEaxbxuZLTq4ZpR  spotify:album:5P6LOcFYoRoLlh4TDxuSFY   \n",
       "4  spotify:track:6gQI4RLH0RLwNMyyz8JIQ3  spotify:album:4uWPjCwslbnaA8JANTBjaU   \n",
       "\n",
       "                            album_name  album_popularity  \\\n",
       "0  Windmills of the Soul Instrumentals                41   \n",
       "1                     Matte Black Soul                42   \n",
       "2                           Invincible                67   \n",
       "3                              Goodbye                39   \n",
       "4                      Andrew Applepie                45   \n",
       "\n",
       "                              artist_uri       artist_name  artist_popularity  \\\n",
       "0  spotify:artist:5EXuZB9s9F3ezkS7zpV8d1          Kero One                 45   \n",
       "1  spotify:artist:2M9OIHcdVSxhPVCYQ3z5Rf              Awon                 52   \n",
       "2  spotify:artist:6BF0bXbsdujMSMeFZBGcBq  Thomas Bergersen                 71   \n",
       "3  spotify:artist:6EfilTfy7TJQI7KXitffIq           Koudlam                 37   \n",
       "4  spotify:artist:5BYcwjrQth7em7maAt0yKE   Andrew Applepie                 55   \n",
       "\n",
       "   artist_followers  ...  overall_key_2  overall_key_3  overall_key_4  \\\n",
       "0             37949  ...              0              0              0   \n",
       "1             15673  ...              0              0              0   \n",
       "2            145336  ...              0              0              0   \n",
       "3             11998  ...              0              0              0   \n",
       "4             49244  ...              0              1              0   \n",
       "\n",
       "   overall_key_5  overall_key_6  overall_key_7  overall_key_8  overall_key_9  \\\n",
       "0              0              0              0              0              0   \n",
       "1              0              0              0              0              1   \n",
       "2              0              0              0              0              0   \n",
       "3              0              0              0              0              0   \n",
       "4              0              0              0              0              0   \n",
       "\n",
       "   overall_key_10  overall_key_11  \n",
       "0               1               0  \n",
       "1               0               0  \n",
       "2               0               0  \n",
       "3               0               1  \n",
       "4               0               0  \n",
       "\n",
       "[5 rows x 74 columns]"
      ]
     },
     "execution_count": 3,
     "metadata": {},
     "output_type": "execute_result"
    }
   ],
   "source": [
    "df.head()"
   ]
  },
  {
   "cell_type": "code",
   "execution_count": 4,
   "metadata": {},
   "outputs": [
    {
     "data": {
      "text/plain": [
       "<matplotlib.axes._subplots.AxesSubplot at 0x1a166e04e0>"
      ]
     },
     "execution_count": 4,
     "metadata": {},
     "output_type": "execute_result"
    },
    {
     "data": {
      "image/png": "[encoded data removed]",
      "text/plain": [
       "<Figure size 1008x432 with 2 Axes>"
      ]
     },
     "metadata": {
      "needs_background": "light"
     },
     "output_type": "display_data"
    }
   ],
   "source": [
    "plt.figure(figsize=(14,6))\n",
    "sns.heatmap(df.isnull())"
   ]
  },
  {
   "cell_type": "code",
   "execution_count": 5,
   "metadata": {},
   "outputs": [
    {
     "name": "stdout",
     "output_type": "stream",
     "text": [
      "Dataset has 21445 rows and 74 columns\n"
     ]
    }
   ],
   "source": [
    "rows = df.shape[0]\n",
    "columns = df.shape[1]\n",
    "print(\"Dataset has {} rows and {} columns\".format(rows,columns))"
   ]
  },
  {
   "cell_type": "code",
   "execution_count": 6,
   "metadata": {},
   "outputs": [
    {
     "name": "stdout",
     "output_type": "stream",
     "text": [
      "We have a total of 67 numerical columns in the DF. Thi is roughly 90.54% of all columns.\n"
     ]
    }
   ],
   "source": [
    "# Check the numerical columns.\n",
    "int_columns = df.select_dtypes(include=[\"int\", \"int8\", \"int16\", \"int32\", \"int64\", \"float\"])\n",
    "nr_int_columns = len(int_columns.columns)\n",
    "int_over_columns = round((nr_int_columns/columns)*100, 2)\n",
    "print(\"We have a total of {} numerical columns in the DF. Thi is roughly {}% of all columns.\".format(nr_int_columns, \\\n",
    "                                                                                                       int_over_columns))"
   ]
  },
  {
   "cell_type": "code",
   "execution_count": 7,
   "metadata": {},
   "outputs": [
    {
     "name": "stdout",
     "output_type": "stream",
     "text": [
      "We have a total of 7 cathegorical columns in the DF. Thi is roughly 9.46% of all columns.\n"
     ]
    }
   ],
   "source": [
    "# Check for categorical columns\n",
    "cat_columns = df.select_dtypes(exclude=[\"int\", \"int8\", \"int16\", \"int32\", \"int64\", \"float\"])\n",
    "nr_cat_columns = len(cat_columns.columns)\n",
    "cat_over_columns = round((nr_cat_columns/columns)*100, 2)\n",
    "print(\"We have a total of {} cathegorical columns in the DF. Thi is roughly {}% of all columns.\".format(nr_cat_columns, \\\n",
    "                                                                                                       cat_over_columns))"
   ]
  },
  {
   "cell_type": "code",
   "execution_count": 8,
   "metadata": {},
   "outputs": [
    {
     "data": {
      "text/html": [
       "<div>\n",
       "<style scoped>\n",
       "    .dataframe tbody tr th:only-of-type {\n",
       "        vertical-align: middle;\n",
       "    }\n",
       "\n",
       "    .dataframe tbody tr th {\n",
       "        vertical-align: top;\n",
       "    }\n",
       "\n",
       "    .dataframe thead th {\n",
       "        text-align: right;\n",
       "    }\n",
       "</style>\n",
       "<table border=\"1\" class=\"dataframe\">\n",
       "  <thead>\n",
       "    <tr style=\"text-align: right;\">\n",
       "      <th></th>\n",
       "      <th>Unnamed: 0</th>\n",
       "      <th>album_popularity</th>\n",
       "      <th>artist_popularity</th>\n",
       "      <th>artist_followers</th>\n",
       "      <th>explicit</th>\n",
       "      <th>popularity</th>\n",
       "      <th>track_number</th>\n",
       "      <th>acousticness</th>\n",
       "      <th>danceability</th>\n",
       "      <th>energy</th>\n",
       "      <th>...</th>\n",
       "      <th>overall_key_2</th>\n",
       "      <th>overall_key_3</th>\n",
       "      <th>overall_key_4</th>\n",
       "      <th>overall_key_5</th>\n",
       "      <th>overall_key_6</th>\n",
       "      <th>overall_key_7</th>\n",
       "      <th>overall_key_8</th>\n",
       "      <th>overall_key_9</th>\n",
       "      <th>overall_key_10</th>\n",
       "      <th>overall_key_11</th>\n",
       "    </tr>\n",
       "  </thead>\n",
       "  <tbody>\n",
       "    <tr>\n",
       "      <th>count</th>\n",
       "      <td>21445.000000</td>\n",
       "      <td>21445.00000</td>\n",
       "      <td>21445.000000</td>\n",
       "      <td>2.144500e+04</td>\n",
       "      <td>21445.000000</td>\n",
       "      <td>21445.000000</td>\n",
       "      <td>21445.000000</td>\n",
       "      <td>21445.000000</td>\n",
       "      <td>21445.000000</td>\n",
       "      <td>21445.000000</td>\n",
       "      <td>...</td>\n",
       "      <td>21445.000000</td>\n",
       "      <td>21445.000000</td>\n",
       "      <td>21445.000000</td>\n",
       "      <td>21445.000000</td>\n",
       "      <td>21445.000000</td>\n",
       "      <td>21445.00000</td>\n",
       "      <td>21445.000000</td>\n",
       "      <td>21445.000000</td>\n",
       "      <td>21445.000000</td>\n",
       "      <td>21445.000000</td>\n",
       "    </tr>\n",
       "    <tr>\n",
       "      <th>mean</th>\n",
       "      <td>10722.000000</td>\n",
       "      <td>60.56554</td>\n",
       "      <td>75.714059</td>\n",
       "      <td>3.948994e+06</td>\n",
       "      <td>0.274423</td>\n",
       "      <td>54.542038</td>\n",
       "      <td>6.186151</td>\n",
       "      <td>0.325030</td>\n",
       "      <td>0.592534</td>\n",
       "      <td>0.570421</td>\n",
       "      <td>...</td>\n",
       "      <td>0.099790</td>\n",
       "      <td>0.034647</td>\n",
       "      <td>0.071345</td>\n",
       "      <td>0.084822</td>\n",
       "      <td>0.069294</td>\n",
       "      <td>0.09965</td>\n",
       "      <td>0.072651</td>\n",
       "      <td>0.087713</td>\n",
       "      <td>0.071019</td>\n",
       "      <td>0.077314</td>\n",
       "    </tr>\n",
       "    <tr>\n",
       "      <th>std</th>\n",
       "      <td>6190.782597</td>\n",
       "      <td>20.75665</td>\n",
       "      <td>12.551087</td>\n",
       "      <td>7.454352e+06</td>\n",
       "      <td>0.446233</td>\n",
       "      <td>21.542553</td>\n",
       "      <td>7.230325</td>\n",
       "      <td>0.339922</td>\n",
       "      <td>0.185395</td>\n",
       "      <td>0.253807</td>\n",
       "      <td>...</td>\n",
       "      <td>0.299727</td>\n",
       "      <td>0.182888</td>\n",
       "      <td>0.257407</td>\n",
       "      <td>0.278623</td>\n",
       "      <td>0.253959</td>\n",
       "      <td>0.29954</td>\n",
       "      <td>0.259569</td>\n",
       "      <td>0.282883</td>\n",
       "      <td>0.256862</td>\n",
       "      <td>0.267095</td>\n",
       "    </tr>\n",
       "    <tr>\n",
       "      <th>min</th>\n",
       "      <td>0.000000</td>\n",
       "      <td>0.00000</td>\n",
       "      <td>0.000000</td>\n",
       "      <td>0.000000e+00</td>\n",
       "      <td>0.000000</td>\n",
       "      <td>0.000000</td>\n",
       "      <td>1.000000</td>\n",
       "      <td>0.000000</td>\n",
       "      <td>0.000000</td>\n",
       "      <td>0.000020</td>\n",
       "      <td>...</td>\n",
       "      <td>0.000000</td>\n",
       "      <td>0.000000</td>\n",
       "      <td>0.000000</td>\n",
       "      <td>0.000000</td>\n",
       "      <td>0.000000</td>\n",
       "      <td>0.00000</td>\n",
       "      <td>0.000000</td>\n",
       "      <td>0.000000</td>\n",
       "      <td>0.000000</td>\n",
       "      <td>0.000000</td>\n",
       "    </tr>\n",
       "    <tr>\n",
       "      <th>25%</th>\n",
       "      <td>5361.000000</td>\n",
       "      <td>56.00000</td>\n",
       "      <td>68.000000</td>\n",
       "      <td>3.142890e+05</td>\n",
       "      <td>0.000000</td>\n",
       "      <td>55.000000</td>\n",
       "      <td>1.000000</td>\n",
       "      <td>0.038100</td>\n",
       "      <td>0.472000</td>\n",
       "      <td>0.426000</td>\n",
       "      <td>...</td>\n",
       "      <td>0.000000</td>\n",
       "      <td>0.000000</td>\n",
       "      <td>0.000000</td>\n",
       "      <td>0.000000</td>\n",
       "      <td>0.000000</td>\n",
       "      <td>0.00000</td>\n",
       "      <td>0.000000</td>\n",
       "      <td>0.000000</td>\n",
       "      <td>0.000000</td>\n",
       "      <td>0.000000</td>\n",
       "    </tr>\n",
       "    <tr>\n",
       "      <th>50%</th>\n",
       "      <td>10722.000000</td>\n",
       "      <td>65.00000</td>\n",
       "      <td>77.000000</td>\n",
       "      <td>1.362178e+06</td>\n",
       "      <td>0.000000</td>\n",
       "      <td>61.000000</td>\n",
       "      <td>4.000000</td>\n",
       "      <td>0.181000</td>\n",
       "      <td>0.611000</td>\n",
       "      <td>0.615000</td>\n",
       "      <td>...</td>\n",
       "      <td>0.000000</td>\n",
       "      <td>0.000000</td>\n",
       "      <td>0.000000</td>\n",
       "      <td>0.000000</td>\n",
       "      <td>0.000000</td>\n",
       "      <td>0.00000</td>\n",
       "      <td>0.000000</td>\n",
       "      <td>0.000000</td>\n",
       "      <td>0.000000</td>\n",
       "      <td>0.000000</td>\n",
       "    </tr>\n",
       "    <tr>\n",
       "      <th>75%</th>\n",
       "      <td>16083.000000</td>\n",
       "      <td>73.00000</td>\n",
       "      <td>83.000000</td>\n",
       "      <td>3.615876e+06</td>\n",
       "      <td>1.000000</td>\n",
       "      <td>67.000000</td>\n",
       "      <td>9.000000</td>\n",
       "      <td>0.563000</td>\n",
       "      <td>0.733000</td>\n",
       "      <td>0.762000</td>\n",
       "      <td>...</td>\n",
       "      <td>0.000000</td>\n",
       "      <td>0.000000</td>\n",
       "      <td>0.000000</td>\n",
       "      <td>0.000000</td>\n",
       "      <td>0.000000</td>\n",
       "      <td>0.00000</td>\n",
       "      <td>0.000000</td>\n",
       "      <td>0.000000</td>\n",
       "      <td>0.000000</td>\n",
       "      <td>0.000000</td>\n",
       "    </tr>\n",
       "    <tr>\n",
       "      <th>max</th>\n",
       "      <td>21444.000000</td>\n",
       "      <td>100.00000</td>\n",
       "      <td>100.000000</td>\n",
       "      <td>5.998448e+07</td>\n",
       "      <td>1.000000</td>\n",
       "      <td>100.000000</td>\n",
       "      <td>105.000000</td>\n",
       "      <td>0.996000</td>\n",
       "      <td>0.986000</td>\n",
       "      <td>1.000000</td>\n",
       "      <td>...</td>\n",
       "      <td>1.000000</td>\n",
       "      <td>1.000000</td>\n",
       "      <td>1.000000</td>\n",
       "      <td>1.000000</td>\n",
       "      <td>1.000000</td>\n",
       "      <td>1.00000</td>\n",
       "      <td>1.000000</td>\n",
       "      <td>1.000000</td>\n",
       "      <td>1.000000</td>\n",
       "      <td>1.000000</td>\n",
       "    </tr>\n",
       "  </tbody>\n",
       "</table>\n",
       "<p>8 rows × 67 columns</p>\n",
       "</div>"
      ],
      "text/plain": [
       "         Unnamed: 0  album_popularity  artist_popularity  artist_followers  \\\n",
       "count  21445.000000       21445.00000       21445.000000      2.144500e+04   \n",
       "mean   10722.000000          60.56554          75.714059      3.948994e+06   \n",
       "std     6190.782597          20.75665          12.551087      7.454352e+06   \n",
       "min        0.000000           0.00000           0.000000      0.000000e+00   \n",
       "25%     5361.000000          56.00000          68.000000      3.142890e+05   \n",
       "50%    10722.000000          65.00000          77.000000      1.362178e+06   \n",
       "75%    16083.000000          73.00000          83.000000      3.615876e+06   \n",
       "max    21444.000000         100.00000         100.000000      5.998448e+07   \n",
       "\n",
       "           explicit    popularity  track_number  acousticness  danceability  \\\n",
       "count  21445.000000  21445.000000  21445.000000  21445.000000  21445.000000   \n",
       "mean       0.274423     54.542038      6.186151      0.325030      0.592534   \n",
       "std        0.446233     21.542553      7.230325      0.339922      0.185395   \n",
       "min        0.000000      0.000000      1.000000      0.000000      0.000000   \n",
       "25%        0.000000     55.000000      1.000000      0.038100      0.472000   \n",
       "50%        0.000000     61.000000      4.000000      0.181000      0.611000   \n",
       "75%        1.000000     67.000000      9.000000      0.563000      0.733000   \n",
       "max        1.000000    100.000000    105.000000      0.996000      0.986000   \n",
       "\n",
       "             energy  ...  overall_key_2  overall_key_3  overall_key_4  \\\n",
       "count  21445.000000  ...   21445.000000   21445.000000   21445.000000   \n",
       "mean       0.570421  ...       0.099790       0.034647       0.071345   \n",
       "std        0.253807  ...       0.299727       0.182888       0.257407   \n",
       "min        0.000020  ...       0.000000       0.000000       0.000000   \n",
       "25%        0.426000  ...       0.000000       0.000000       0.000000   \n",
       "50%        0.615000  ...       0.000000       0.000000       0.000000   \n",
       "75%        0.762000  ...       0.000000       0.000000       0.000000   \n",
       "max        1.000000  ...       1.000000       1.000000       1.000000   \n",
       "\n",
       "       overall_key_5  overall_key_6  overall_key_7  overall_key_8  \\\n",
       "count   21445.000000   21445.000000    21445.00000   21445.000000   \n",
       "mean        0.084822       0.069294        0.09965       0.072651   \n",
       "std         0.278623       0.253959        0.29954       0.259569   \n",
       "min         0.000000       0.000000        0.00000       0.000000   \n",
       "25%         0.000000       0.000000        0.00000       0.000000   \n",
       "50%         0.000000       0.000000        0.00000       0.000000   \n",
       "75%         0.000000       0.000000        0.00000       0.000000   \n",
       "max         1.000000       1.000000        1.00000       1.000000   \n",
       "\n",
       "       overall_key_9  overall_key_10  overall_key_11  \n",
       "count   21445.000000    21445.000000    21445.000000  \n",
       "mean        0.087713        0.071019        0.077314  \n",
       "std         0.282883        0.256862        0.267095  \n",
       "min         0.000000        0.000000        0.000000  \n",
       "25%         0.000000        0.000000        0.000000  \n",
       "50%         0.000000        0.000000        0.000000  \n",
       "75%         0.000000        0.000000        0.000000  \n",
       "max         1.000000        1.000000        1.000000  \n",
       "\n",
       "[8 rows x 67 columns]"
      ]
     },
     "execution_count": 8,
     "metadata": {},
     "output_type": "execute_result"
    }
   ],
   "source": [
    "df.describe()"
   ]
  },
  {
   "cell_type": "code",
   "execution_count": 9,
   "metadata": {},
   "outputs": [
    {
     "data": {
      "text/plain": [
       "Index(['Unnamed: 0', 'name', 'uri', 'album_uri', 'album_name',\n",
       "       'album_popularity', 'artist_uri', 'artist_name', 'artist_popularity',\n",
       "       'artist_followers', 'explicit', 'popularity', 'track_number',\n",
       "       'acousticness', 'danceability', 'energy', 'instrumentalness',\n",
       "       'liveness', 'loudness', 'speechiness', 'valence', 'tempo', 'mode',\n",
       "       'num_of_sections', 'num_of_keys', 'num_of_modes',\n",
       "       'num_of_time_signatures', 'df_label', 'recently_played', 'saved_tracks',\n",
       "       'top_tracks', 'Rating01', 'Rating0-5', 'AddPlylst01',\n",
       "       'release_year_from_2020', 'duration_minutes',\n",
       "       'section_durations_variance', 'section_durations_min',\n",
       "       'section_durations_max', 'section_loudnesses_variance',\n",
       "       'section_loudnesses_min', 'section_loudnesses_max',\n",
       "       'section_tempos_variance', 'section_tempos_min', 'section_tempos_max',\n",
       "       'album_big_label', 'album_medium_label', 'genre_alternative metal/rock',\n",
       "       'genre_background', 'genre_baroque classic', 'genre_classical',\n",
       "       'genre_country', 'genre_hip hop', 'genre_house', 'genre_indie',\n",
       "       'genre_mexican', 'genre_pop', 'genre_rap', 'genre_rock',\n",
       "       'time_signature_1', 'time_signature_3', 'time_signature_4',\n",
       "       'time_signature_5', 'overall_key_1', 'overall_key_2', 'overall_key_3',\n",
       "       'overall_key_4', 'overall_key_5', 'overall_key_6', 'overall_key_7',\n",
       "       'overall_key_8', 'overall_key_9', 'overall_key_10', 'overall_key_11'],\n",
       "      dtype='object')"
      ]
     },
     "execution_count": 9,
     "metadata": {},
     "output_type": "execute_result"
    }
   ],
   "source": [
    "df.columns"
   ]
  },
  {
   "cell_type": "markdown",
   "metadata": {},
   "source": [
    "**Distribution of Ratings**"
   ]
  },
  {
   "cell_type": "code",
   "execution_count": 10,
   "metadata": {},
   "outputs": [
    {
     "data": {
      "text/plain": [
       "<matplotlib.axes._subplots.AxesSubplot at 0x1a24f40828>"
      ]
     },
     "execution_count": 10,
     "metadata": {},
     "output_type": "execute_result"
    },
    {
     "data": {
      "image/png": "[encoded data removed]",
      "text/plain": [
       "<Figure size 432x288 with 1 Axes>"
      ]
     },
     "metadata": {
      "needs_background": "light"
     },
     "output_type": "display_data"
    }
   ],
   "source": [
    "sns.distplot(df['Rating0-5'], bins=25)"
   ]
  },
  {
   "cell_type": "markdown",
   "metadata": {},
   "source": [
    "**Distribution of artist popularity**"
   ]
  },
  {
   "cell_type": "code",
   "execution_count": 8,
   "metadata": {},
   "outputs": [
    {
     "data": {
      "text/plain": [
       "<matplotlib.axes._subplots.AxesSubplot at 0x1a1a81fb70>"
      ]
     },
     "execution_count": 8,
     "metadata": {},
     "output_type": "execute_result"
    },
    {
     "data": {
      "image/png": "[encoded data removed]",
      "text/plain": [
       "<Figure size 432x288 with 1 Axes>"
      ]
     },
     "metadata": {
      "needs_background": "light"
     },
     "output_type": "display_data"
    }
   ],
   "source": [
    "sns.distplot(df['artist_popularity'], bins=25)"
   ]
  },
  {
   "cell_type": "code",
   "execution_count": 7,
   "metadata": {},
   "outputs": [],
   "source": [
    "cols = ['Rating0-5', 'album_popularity', 'artist_popularity', 'artist_followers', 'popularity', 'track_number',\n",
    "       'acousticness', 'danceability', 'energy', 'instrumentalness', 'liveness', 'loudness', 'speechiness', 'valence', 'tempo',\n",
    "       'num_of_sections', 'num_of_keys', 'num_of_modes', 'num_of_time_signatures', 'release_year_from_2020', 'duration_minutes',\n",
    "       'section_durations_variance', 'section_durations_min', 'section_durations_max', 'section_loudnesses_variance',\n",
    "       'section_loudnesses_min', 'section_loudnesses_max', 'section_tempos_variance', 'section_tempos_min', 'section_tempos_max',\n",
    "       'album_big_label', 'album_medium_label',\n",
    "       'genre_alternative metal/rock', 'genre_background', 'genre_baroque classic', 'genre_classical',\n",
    "       'genre_country', 'genre_hip hop', 'genre_house', 'genre_indie',\n",
    "       'genre_mexican', 'genre_pop', 'genre_rap', 'genre_rock',\n",
    "       'time_signature_1', 'time_signature_3', 'time_signature_4',\n",
    "       'time_signature_5', 'overall_key_1', 'overall_key_2', 'overall_key_3',\n",
    "       'overall_key_4', 'overall_key_5', 'overall_key_6', 'overall_key_7',\n",
    "       'overall_key_8', 'overall_key_9', 'overall_key_10', 'overall_key_11']"
   ]
  },
  {
   "cell_type": "code",
   "execution_count": 8,
   "metadata": {},
   "outputs": [],
   "source": [
    "data = df[cols]"
   ]
  },
  {
   "cell_type": "code",
   "execution_count": 9,
   "metadata": {},
   "outputs": [],
   "source": [
    "data = data[data['Rating0-5'].notnull()]"
   ]
  },
  {
   "cell_type": "code",
   "execution_count": 10,
   "metadata": {},
   "outputs": [],
   "source": [
    "y = data.iloc[:,0]\n",
    "x = data.iloc[:,1:]"
   ]
  },
  {
   "cell_type": "code",
   "execution_count": 11,
   "metadata": {},
   "outputs": [
    {
     "data": {
      "text/plain": [
       "(374,)"
      ]
     },
     "execution_count": 11,
     "metadata": {},
     "output_type": "execute_result"
    }
   ],
   "source": [
    "y.shape"
   ]
  },
  {
   "cell_type": "code",
   "execution_count": 12,
   "metadata": {},
   "outputs": [
    {
     "data": {
      "text/plain": [
       "(374, 58)"
      ]
     },
     "execution_count": 12,
     "metadata": {},
     "output_type": "execute_result"
    }
   ],
   "source": [
    "x.shape"
   ]
  },
  {
   "cell_type": "code",
   "execution_count": 13,
   "metadata": {},
   "outputs": [],
   "source": [
    "from sklearn.ensemble import RandomForestRegressor\n",
    "from sklearn.linear_model import LinearRegression\n",
    "from sklearn.ensemble import GradientBoostingRegressor\n",
    "from sklearn.tree import DecisionTreeRegressor\n",
    "import sklearn.model_selection as cv\n",
    "from sklearn.model_selection import cross_val_score\n",
    "from sklearn.model_selection import GridSearchCV\n",
    "from sklearn.model_selection import train_test_split\n",
    "from sklearn.metrics import mean_squared_error as MSE\n",
    "from sklearn.metrics import r2_score as RSqaured"
   ]
  },
  {
   "cell_type": "code",
   "execution_count": 14,
   "metadata": {},
   "outputs": [],
   "source": [
    "SEED = 101"
   ]
  },
  {
   "cell_type": "code",
   "execution_count": 15,
   "metadata": {},
   "outputs": [],
   "source": [
    "X_train, X_test, y_train, y_test = train_test_split(x, y,test_size=0.3, random_state=SEED)"
   ]
  },
  {
   "cell_type": "markdown",
   "metadata": {},
   "source": [
    "**Linear Regression**"
   ]
  },
  {
   "cell_type": "code",
   "execution_count": 16,
   "metadata": {},
   "outputs": [
    {
     "data": {
      "text/plain": [
       "LinearRegression(copy_X=True, fit_intercept=True, n_jobs=None,\n",
       "         normalize=False)"
      ]
     },
     "execution_count": 16,
     "metadata": {},
     "output_type": "execute_result"
    }
   ],
   "source": [
    "lr = LinearRegression()\n",
    "lr.fit(X_train, y_train)"
   ]
  },
  {
   "cell_type": "code",
   "execution_count": 17,
   "metadata": {},
   "outputs": [
    {
     "name": "stdout",
     "output_type": "stream",
     "text": [
      "Test set RMSE of lr: 1.33\n"
     ]
    }
   ],
   "source": [
    "y_pred_lr = lr.predict(X_test)\n",
    "mse_lr = MSE(y_test, y_pred_lr)\n",
    "rmse_lr = mse_lr**(1/2)\n",
    "print(\"Test set RMSE of lr: {:.2f}\".format(rmse_lr))"
   ]
  },
  {
   "cell_type": "markdown",
   "metadata": {},
   "source": [
    "**Decision Tree**"
   ]
  },
  {
   "cell_type": "code",
   "execution_count": 18,
   "metadata": {},
   "outputs": [
    {
     "data": {
      "text/plain": [
       "DecisionTreeRegressor(criterion='mse', max_depth=6, max_features=None,\n",
       "           max_leaf_nodes=None, min_impurity_decrease=0.0,\n",
       "           min_impurity_split=None, min_samples_leaf=5,\n",
       "           min_samples_split=2, min_weight_fraction_leaf=0.0,\n",
       "           presort=False, random_state=3, splitter='best')"
      ]
     },
     "execution_count": 18,
     "metadata": {},
     "output_type": "execute_result"
    }
   ],
   "source": [
    "dt = DecisionTreeRegressor(max_depth=6, min_samples_leaf=5, random_state=3)\n",
    "dt.fit(X_train, y_train)"
   ]
  },
  {
   "cell_type": "code",
   "execution_count": 19,
   "metadata": {},
   "outputs": [
    {
     "name": "stdout",
     "output_type": "stream",
     "text": [
      "Test set RMSE of dt: 1.49\n"
     ]
    }
   ],
   "source": [
    "y_pred_dt = dt.predict(X_test)\n",
    "mse_dt = MSE(y_test, y_pred_dt)\n",
    "rmse_dt = mse_dt**(1/2)\n",
    "print(\"Test set RMSE of dt: {:.2f}\".format(rmse_dt))"
   ]
  },
  {
   "cell_type": "code",
   "execution_count": 20,
   "metadata": {},
   "outputs": [
    {
     "name": "stdout",
     "output_type": "stream",
     "text": [
      "Train RMSE: 0.92\n"
     ]
    }
   ],
   "source": [
    "y_pred_train_dt = dt.predict(X_train)\n",
    "rmse_train_dt = (MSE(y_train, y_pred_train_dt))**(1/2)\n",
    "print('Train RMSE: {:.2f}'.format(rmse_train_dt))"
   ]
  },
  {
   "cell_type": "code",
   "execution_count": 21,
   "metadata": {},
   "outputs": [
    {
     "name": "stdout",
     "output_type": "stream",
     "text": [
      "CV RMSE: 1.59\n"
     ]
    }
   ],
   "source": [
    "mse_dt_CV_scores = - cross_val_score(dt, X_train, y_train, cv=10, scoring='neg_mean_squared_error', n_jobs=-1) \n",
    "\n",
    "rmse_dt_CV = (mse_dt_CV_scores.mean())**(1/2)\n",
    "\n",
    "print('CV RMSE: {:.2f}'.format(rmse_dt_CV))"
   ]
  },
  {
   "cell_type": "markdown",
   "metadata": {},
   "source": [
    "**Random Forest**"
   ]
  },
  {
   "cell_type": "code",
   "execution_count": 22,
   "metadata": {},
   "outputs": [
    {
     "name": "stdout",
     "output_type": "stream",
     "text": [
      "Test set RMSE of rf: 1.31\n",
      "Train set RMSE of rf: 0.75\n"
     ]
    }
   ],
   "source": [
    "rf = RandomForestRegressor(n_estimators=200, min_samples_leaf=5,random_state=SEED, n_jobs=-1)\n",
    "rf.fit(X_train, y_train)\n",
    "y_pred = rf.predict(X_test)\n",
    "y_pred_train=rf.predict(X_train)\n",
    "rmse_test = MSE(y_test, y_pred)**(1/2)\n",
    "rmse_train = MSE(y_train, y_pred_train)**(1/2)\n",
    "print('Test set RMSE of rf: {:.2f}'.format(rmse_test))\n",
    "print('Train set RMSE of rf: {:.2f}'.format(rmse_train))"
   ]
  },
  {
   "cell_type": "code",
   "execution_count": 23,
   "metadata": {},
   "outputs": [
    {
     "data": {
      "image/png": "[encoded data removed]",
      "text/plain": [
       "<Figure size 864x576 with 1 Axes>"
      ]
     },
     "metadata": {
      "needs_background": "light"
     },
     "output_type": "display_data"
    }
   ],
   "source": [
    "plt.figure(figsize=(12,8))\n",
    "importances_rf = pd.Series(rf.feature_importances_, index = x.columns)\n",
    "sorted_importances_rf = importances_rf.sort_values()\n",
    "sorted_importances_rf.plot(kind='barh', color='blue')\n",
    "plt.show()"
   ]
  },
  {
   "cell_type": "code",
   "execution_count": 24,
   "metadata": {},
   "outputs": [],
   "source": [
    "# Find best parameters using GridSearchCV\n",
    "rf2 = RandomForestRegressor(random_state=SEED)\n",
    "param_grid = { \n",
    "    'n_estimators': range(100,800, 100),\n",
    "    'max_depth' : range(2,8),\n",
    "    'min_samples_leaf': range(1,5)\n",
    "}"
   ]
  },
  {
   "cell_type": "code",
   "execution_count": 25,
   "metadata": {},
   "outputs": [
    {
     "name": "stderr",
     "output_type": "stream",
     "text": [
      "/Users/abhishekyadav/anaconda3/lib/python3.7/site-packages/sklearn/model_selection/_search.py:841: DeprecationWarning: The default of the `iid` parameter will change from True to False in version 0.22 and will be removed in 0.24. This will change numeric results when test-set sizes are unequal.\n",
      "  DeprecationWarning)\n"
     ]
    },
    {
     "data": {
      "text/plain": [
       "GridSearchCV(cv=5, error_score='raise-deprecating',\n",
       "       estimator=RandomForestRegressor(bootstrap=True, criterion='mse', max_depth=None,\n",
       "           max_features='auto', max_leaf_nodes=None,\n",
       "           min_impurity_decrease=0.0, min_impurity_split=None,\n",
       "           min_samples_leaf=1, min_samples_split=2,\n",
       "           min_weight_fraction_leaf=0.0, n_estimators='warn', n_jobs=None,\n",
       "           oob_score=False, random_state=101, verbose=0, warm_start=False),\n",
       "       fit_params=None, iid='warn', n_jobs=-1,\n",
       "       param_grid={'n_estimators': range(100, 800, 100), 'max_depth': range(2, 8), 'min_samples_leaf': range(1, 5)},\n",
       "       pre_dispatch='2*n_jobs', refit=True, return_train_score='warn',\n",
       "       scoring=None, verbose=0)"
      ]
     },
     "execution_count": 25,
     "metadata": {},
     "output_type": "execute_result"
    }
   ],
   "source": [
    "CV_rf = GridSearchCV(estimator=rf2, param_grid=param_grid, cv= 5, n_jobs=-1)\n",
    "CV_rf.fit(X_train, y_train)"
   ]
  },
  {
   "cell_type": "code",
   "execution_count": 26,
   "metadata": {},
   "outputs": [
    {
     "data": {
      "text/plain": [
       "{'max_depth': 4, 'min_samples_leaf': 1, 'n_estimators': 100}"
      ]
     },
     "execution_count": 26,
     "metadata": {},
     "output_type": "execute_result"
    }
   ],
   "source": [
    "CV_rf.best_params_"
   ]
  },
  {
   "cell_type": "code",
   "execution_count": 27,
   "metadata": {},
   "outputs": [
    {
     "name": "stdout",
     "output_type": "stream",
     "text": [
      "Test set RMSE of rf: 1.31\n",
      "Train set RMSE of rf: 0.91\n"
     ]
    }
   ],
   "source": [
    "rf_best = RandomForestRegressor(n_estimators=100, min_samples_leaf=1, max_depth=4,\n",
    "                                random_state=SEED, n_jobs=-1)\n",
    "rf_best.fit(X_train, y_train)\n",
    "y_pred_rf_best = rf_best.predict(X_test)\n",
    "y_pred_train_rf_best=rf_best.predict(X_train)\n",
    "rmse_test_rf_best = MSE(y_test, y_pred_rf_best)**(1/2)\n",
    "rmse_train_rf_best = MSE(y_train, y_pred_train_rf_best)**(1/2)\n",
    "print('Test set RMSE of rf: {:.2f}'.format(rmse_test_rf_best))\n",
    "print('Train set RMSE of rf: {:.2f}'.format(rmse_train_rf_best))\n"
   ]
  },
  {
   "cell_type": "code",
   "execution_count": 28,
   "metadata": {},
   "outputs": [
    {
     "data": {
      "image/png": "[encoded data removed]",
      "text/plain": [
       "<Figure size 864x576 with 1 Axes>"
      ]
     },
     "metadata": {
      "needs_background": "light"
     },
     "output_type": "display_data"
    }
   ],
   "source": [
    "plt.figure(figsize=(12,8))\n",
    "importances_rf_best = pd.Series(rf_best.feature_importances_, index = x.columns)\n",
    "sorted_importances_rf_best = importances_rf_best.sort_values()\n",
    "sorted_importances_rf_best.plot(kind='barh', color='blue')\n",
    "plt.show()"
   ]
  },
  {
   "cell_type": "markdown",
   "metadata": {},
   "source": [
    "**Gradient Boosting**"
   ]
  },
  {
   "cell_type": "code",
   "execution_count": 175,
   "metadata": {},
   "outputs": [
    {
     "name": "stdout",
     "output_type": "stream",
     "text": [
      "Test set RMSE of rf: 1.35\n",
      "Train set RMSE of rf: 0.00\n"
     ]
    }
   ],
   "source": [
    "gb = GradientBoostingRegressor(max_depth=4, n_estimators=400, random_state=SEED)\n",
    "gb.fit(X_train, y_train)\n",
    "y_pred_gb = gb.predict(X_test)\n",
    "y_pred_train_gb = gb.predict(X_train)\n",
    "rmse_test_gb = MSE(y_test, y_pred_gb)**(1/2)\n",
    "rmse_train_gb = MSE(y_train, y_pred_train_gb)\n",
    "print('Test set RMSE of rf: {:.2f}'.format(rmse_test_gb))\n",
    "print('Train set RMSE of rf: {:.2f}'.format(rmse_train_gb))"
   ]
  },
  {
   "cell_type": "markdown",
   "metadata": {},
   "source": [
    "**Picking the best model and making predictions**"
   ]
  },
  {
   "cell_type": "code",
   "execution_count": 52,
   "metadata": {},
   "outputs": [],
   "source": [
    "global_data = df[df['Rating0-5'].isnull()]"
   ]
  },
  {
   "cell_type": "code",
   "execution_count": 53,
   "metadata": {},
   "outputs": [],
   "source": [
    "holdout = global_data[cols].drop(['Rating0-5'], axis=1)"
   ]
  },
  {
   "cell_type": "code",
   "execution_count": 54,
   "metadata": {},
   "outputs": [
    {
     "data": {
      "text/plain": [
       "(21071, 58)"
      ]
     },
     "execution_count": 54,
     "metadata": {},
     "output_type": "execute_result"
    }
   ],
   "source": [
    "holdout.shape"
   ]
  },
  {
   "cell_type": "code",
   "execution_count": 55,
   "metadata": {},
   "outputs": [],
   "source": [
    "predictions = rf_best.predict(holdout)"
   ]
  },
  {
   "cell_type": "code",
   "execution_count": 56,
   "metadata": {},
   "outputs": [],
   "source": [
    "holdout['PredictedReviews'] = predictions.tolist()"
   ]
  },
  {
   "cell_type": "code",
   "execution_count": 57,
   "metadata": {},
   "outputs": [],
   "source": [
    "holdout['uri'] = global_data['uri']\n",
    "holdout['name'] = global_data['name']\n",
    "holdout['album_name'] = global_data['album_name']\n",
    "holdout['album_uri'] = global_data['album_uri']\n",
    "holdout['artist_name'] = global_data['artist_name']\n",
    "holdout['artist_uri'] = global_data['artist_uri']"
   ]
  },
  {
   "cell_type": "code",
   "execution_count": 58,
   "metadata": {},
   "outputs": [
    {
     "data": {
      "text/html": [
       "<div>\n",
       "<style scoped>\n",
       "    .dataframe tbody tr th:only-of-type {\n",
       "        vertical-align: middle;\n",
       "    }\n",
       "\n",
       "    .dataframe tbody tr th {\n",
       "        vertical-align: top;\n",
       "    }\n",
       "\n",
       "    .dataframe thead th {\n",
       "        text-align: right;\n",
       "    }\n",
       "</style>\n",
       "<table border=\"1\" class=\"dataframe\">\n",
       "  <thead>\n",
       "    <tr style=\"text-align: right;\">\n",
       "      <th></th>\n",
       "      <th>album_popularity</th>\n",
       "      <th>artist_popularity</th>\n",
       "      <th>artist_followers</th>\n",
       "      <th>popularity</th>\n",
       "      <th>track_number</th>\n",
       "      <th>acousticness</th>\n",
       "      <th>danceability</th>\n",
       "      <th>energy</th>\n",
       "      <th>instrumentalness</th>\n",
       "      <th>liveness</th>\n",
       "      <th>...</th>\n",
       "      <th>overall_key_9</th>\n",
       "      <th>overall_key_10</th>\n",
       "      <th>overall_key_11</th>\n",
       "      <th>PredictedReviews</th>\n",
       "      <th>uri</th>\n",
       "      <th>name</th>\n",
       "      <th>album_name</th>\n",
       "      <th>album_uri</th>\n",
       "      <th>artist_name</th>\n",
       "      <th>artist_uri</th>\n",
       "    </tr>\n",
       "  </thead>\n",
       "  <tbody>\n",
       "    <tr>\n",
       "      <th>370</th>\n",
       "      <td>39</td>\n",
       "      <td>36</td>\n",
       "      <td>5386</td>\n",
       "      <td>7</td>\n",
       "      <td>2</td>\n",
       "      <td>0.12700</td>\n",
       "      <td>0.536</td>\n",
       "      <td>0.777</td>\n",
       "      <td>0.000000</td>\n",
       "      <td>0.0977</td>\n",
       "      <td>...</td>\n",
       "      <td>0</td>\n",
       "      <td>0</td>\n",
       "      <td>0</td>\n",
       "      <td>4.363652</td>\n",
       "      <td>spotify:track:74gKUExTS1d2Yj4WoZektF</td>\n",
       "      <td>Awake</td>\n",
       "      <td>Bianca Ryan</td>\n",
       "      <td>spotify:album:4mAToiuP7G4FiXfl9W3oGl</td>\n",
       "      <td>Bianca Ryan</td>\n",
       "      <td>spotify:artist:0SGZfHICh9e4oEXS8zGOXt</td>\n",
       "    </tr>\n",
       "    <tr>\n",
       "      <th>13</th>\n",
       "      <td>36</td>\n",
       "      <td>37</td>\n",
       "      <td>9611</td>\n",
       "      <td>32</td>\n",
       "      <td>2</td>\n",
       "      <td>0.00183</td>\n",
       "      <td>0.615</td>\n",
       "      <td>0.791</td>\n",
       "      <td>0.330000</td>\n",
       "      <td>0.3480</td>\n",
       "      <td>...</td>\n",
       "      <td>0</td>\n",
       "      <td>0</td>\n",
       "      <td>1</td>\n",
       "      <td>4.362471</td>\n",
       "      <td>spotify:track:1hNIwhkrj4SRi8XKfMTGmB</td>\n",
       "      <td>It's So Hard</td>\n",
       "      <td>Dinner With FAT Beatz</td>\n",
       "      <td>spotify:album:7EVVZvjBhYR7Tx50tNlqye</td>\n",
       "      <td>JK Soul</td>\n",
       "      <td>spotify:artist:0OINA1IEY4yNLRFD5n10uS</td>\n",
       "    </tr>\n",
       "    <tr>\n",
       "      <th>216</th>\n",
       "      <td>18</td>\n",
       "      <td>27</td>\n",
       "      <td>35401</td>\n",
       "      <td>0</td>\n",
       "      <td>16</td>\n",
       "      <td>0.33300</td>\n",
       "      <td>0.688</td>\n",
       "      <td>0.557</td>\n",
       "      <td>0.000000</td>\n",
       "      <td>0.0994</td>\n",
       "      <td>...</td>\n",
       "      <td>0</td>\n",
       "      <td>1</td>\n",
       "      <td>0</td>\n",
       "      <td>4.335788</td>\n",
       "      <td>spotify:track:4KQ0HNQvr6JZgerYQueosE</td>\n",
       "      <td>Liar - Radio Edit</td>\n",
       "      <td>Motown: The Complete No. 1's</td>\n",
       "      <td>spotify:album:78kJS9OWjuPrYccf3E54yb</td>\n",
       "      <td>Profyle</td>\n",
       "      <td>spotify:artist:4WC2Edj7Ruq94JH2jkC5hB</td>\n",
       "    </tr>\n",
       "    <tr>\n",
       "      <th>661</th>\n",
       "      <td>51</td>\n",
       "      <td>57</td>\n",
       "      <td>301958</td>\n",
       "      <td>50</td>\n",
       "      <td>2</td>\n",
       "      <td>0.04510</td>\n",
       "      <td>0.755</td>\n",
       "      <td>0.901</td>\n",
       "      <td>0.037300</td>\n",
       "      <td>0.3630</td>\n",
       "      <td>...</td>\n",
       "      <td>1</td>\n",
       "      <td>0</td>\n",
       "      <td>0</td>\n",
       "      <td>4.328390</td>\n",
       "      <td>spotify:track:2DNdEpV9UnsYjL6w1Dp1aS</td>\n",
       "      <td>That's Not My Name</td>\n",
       "      <td>We Started Nothing</td>\n",
       "      <td>spotify:album:1aWIPcWf3fDEZT6geXjCfU</td>\n",
       "      <td>The Ting Tings</td>\n",
       "      <td>spotify:artist:2wvUfjKGoXvcnDHq7GgMOa</td>\n",
       "    </tr>\n",
       "    <tr>\n",
       "      <th>822</th>\n",
       "      <td>0</td>\n",
       "      <td>66</td>\n",
       "      <td>233794</td>\n",
       "      <td>0</td>\n",
       "      <td>2</td>\n",
       "      <td>0.00620</td>\n",
       "      <td>0.429</td>\n",
       "      <td>0.903</td>\n",
       "      <td>0.000002</td>\n",
       "      <td>0.0721</td>\n",
       "      <td>...</td>\n",
       "      <td>0</td>\n",
       "      <td>0</td>\n",
       "      <td>0</td>\n",
       "      <td>4.320295</td>\n",
       "      <td>spotify:track:2QU7jMIPWphYvwnS6GOAMe</td>\n",
       "      <td>Shot of Tears</td>\n",
       "      <td>Vital Signs</td>\n",
       "      <td>spotify:album:5HP7NSiuFplqgGM6OA5IRq</td>\n",
       "      <td>The Revivalists</td>\n",
       "      <td>spotify:artist:5kuJibJcwOC53s3OkoGMRA</td>\n",
       "    </tr>\n",
       "  </tbody>\n",
       "</table>\n",
       "<p>5 rows × 65 columns</p>\n",
       "</div>"
      ],
      "text/plain": [
       "     album_popularity  artist_popularity  artist_followers  popularity  \\\n",
       "370                39                 36              5386           7   \n",
       "13                 36                 37              9611          32   \n",
       "216                18                 27             35401           0   \n",
       "661                51                 57            301958          50   \n",
       "822                 0                 66            233794           0   \n",
       "\n",
       "     track_number  acousticness  danceability  energy  instrumentalness  \\\n",
       "370             2       0.12700         0.536   0.777          0.000000   \n",
       "13              2       0.00183         0.615   0.791          0.330000   \n",
       "216            16       0.33300         0.688   0.557          0.000000   \n",
       "661             2       0.04510         0.755   0.901          0.037300   \n",
       "822             2       0.00620         0.429   0.903          0.000002   \n",
       "\n",
       "     liveness  ...  overall_key_9  overall_key_10  overall_key_11  \\\n",
       "370    0.0977  ...              0               0               0   \n",
       "13     0.3480  ...              0               0               1   \n",
       "216    0.0994  ...              0               1               0   \n",
       "661    0.3630  ...              1               0               0   \n",
       "822    0.0721  ...              0               0               0   \n",
       "\n",
       "     PredictedReviews                                   uri  \\\n",
       "370          4.363652  spotify:track:74gKUExTS1d2Yj4WoZektF   \n",
       "13           4.362471  spotify:track:1hNIwhkrj4SRi8XKfMTGmB   \n",
       "216          4.335788  spotify:track:4KQ0HNQvr6JZgerYQueosE   \n",
       "661          4.328390  spotify:track:2DNdEpV9UnsYjL6w1Dp1aS   \n",
       "822          4.320295  spotify:track:2QU7jMIPWphYvwnS6GOAMe   \n",
       "\n",
       "                   name                    album_name  \\\n",
       "370               Awake                   Bianca Ryan   \n",
       "13         It's So Hard         Dinner With FAT Beatz   \n",
       "216   Liar - Radio Edit  Motown: The Complete No. 1's   \n",
       "661  That's Not My Name            We Started Nothing   \n",
       "822       Shot of Tears                   Vital Signs   \n",
       "\n",
       "                                album_uri      artist_name  \\\n",
       "370  spotify:album:4mAToiuP7G4FiXfl9W3oGl      Bianca Ryan   \n",
       "13   spotify:album:7EVVZvjBhYR7Tx50tNlqye          JK Soul   \n",
       "216  spotify:album:78kJS9OWjuPrYccf3E54yb          Profyle   \n",
       "661  spotify:album:1aWIPcWf3fDEZT6geXjCfU   The Ting Tings   \n",
       "822  spotify:album:5HP7NSiuFplqgGM6OA5IRq  The Revivalists   \n",
       "\n",
       "                                artist_uri  \n",
       "370  spotify:artist:0SGZfHICh9e4oEXS8zGOXt  \n",
       "13   spotify:artist:0OINA1IEY4yNLRFD5n10uS  \n",
       "216  spotify:artist:4WC2Edj7Ruq94JH2jkC5hB  \n",
       "661  spotify:artist:2wvUfjKGoXvcnDHq7GgMOa  \n",
       "822  spotify:artist:5kuJibJcwOC53s3OkoGMRA  \n",
       "\n",
       "[5 rows x 65 columns]"
      ]
     },
     "execution_count": 58,
     "metadata": {},
     "output_type": "execute_result"
    }
   ],
   "source": [
    "holdout.sort_values(by='PredictedReviews', ascending=False).head()"
   ]
  },
  {
   "cell_type": "markdown",
   "metadata": {},
   "source": [
    "**Distribution of Predicted Reviews**"
   ]
  },
  {
   "cell_type": "code",
   "execution_count": 59,
   "metadata": {},
   "outputs": [
    {
     "data": {
      "text/plain": [
       "<matplotlib.axes._subplots.AxesSubplot at 0x1a1610b748>"
      ]
     },
     "execution_count": 59,
     "metadata": {},
     "output_type": "execute_result"
    },
    {
     "data": {
      "image/png": "[encoded data removed]",
      "text/plain": [
       "<Figure size 432x288 with 1 Axes>"
      ]
     },
     "metadata": {
      "needs_background": "light"
     },
     "output_type": "display_data"
    }
   ],
   "source": [
    "sns.distplot(holdout['PredictedReviews'])"
   ]
  },
  {
   "cell_type": "code",
   "execution_count": 80,
   "metadata": {},
   "outputs": [],
   "source": [
    "col = ['name', 'uri', 'album_name', 'album_uri', 'artist_name', 'artist_uri', 'PredictedReviews']"
   ]
  },
  {
   "cell_type": "markdown",
   "metadata": {},
   "source": [
    "**Dance Playlist**"
   ]
  },
  {
   "cell_type": "code",
   "execution_count": 81,
   "metadata": {},
   "outputs": [],
   "source": [
    "dance_playlist = holdout[holdout['danceability'] > 0.7].sort_values(by='PredictedReviews', ascending=False).head(10)[col]"
   ]
  },
  {
   "cell_type": "code",
   "execution_count": 82,
   "metadata": {},
   "outputs": [],
   "source": [
    "dance_playlist['model'] = \"Random Forest Regressor\""
   ]
  },
  {
   "cell_type": "code",
   "execution_count": 90,
   "metadata": {},
   "outputs": [],
   "source": [
    "dance_playlist.to_csv('dance_playlist_rfRegressor.csv')"
   ]
  },
  {
   "cell_type": "markdown",
   "metadata": {},
   "source": [
    "**Chill Playlist**"
   ]
  },
  {
   "cell_type": "code",
   "execution_count": 84,
   "metadata": {},
   "outputs": [],
   "source": [
    "chill_playlist = holdout[(holdout['tempo'] > 0.95) & (holdout['valence'] > 0.5)].sort_values(by='PredictedReviews', ascending=False).head(10)[col]"
   ]
  },
  {
   "cell_type": "code",
   "execution_count": 85,
   "metadata": {},
   "outputs": [],
   "source": [
    "chill_playlist['model'] = \"Random Forest Regressor\""
   ]
  },
  {
   "cell_type": "code",
   "execution_count": 91,
   "metadata": {},
   "outputs": [],
   "source": [
    "chill_playlist.to_csv('chill_playlist_rfRegressor.csv')"
   ]
  },
  {
   "cell_type": "markdown",
   "metadata": {},
   "source": [
    "**Unpopular/Discover Playlist**"
   ]
  },
  {
   "cell_type": "code",
   "execution_count": 87,
   "metadata": {},
   "outputs": [],
   "source": [
    "unpopular_playlist = holdout[(holdout['popularity'] < 60) & (holdout['artist_popularity'] < 80)].sort_values(by='PredictedReviews', ascending=False).head(10)[col]"
   ]
  },
  {
   "cell_type": "code",
   "execution_count": 88,
   "metadata": {},
   "outputs": [],
   "source": [
    "unpopular_playlist['model'] = \"Random Forest Regressor\""
   ]
  },
  {
   "cell_type": "code",
   "execution_count": 92,
   "metadata": {},
   "outputs": [],
   "source": [
    "unpopular_playlist.to_csv('unpopular_playlist_rfRegressor.csv')"
   ]
  }
 ],
 "metadata": {
  "kernelspec": {
   "display_name": "Python 3",
   "language": "python",
   "name": "python3"
  },
  "language_info": {
   "codemirror_mode": {
    "name": "ipython",
    "version": 3
   },
   "file_extension": ".py",
   "mimetype": "text/x-python",
   "name": "python",
   "nbconvert_exporter": "python",
   "pygments_lexer": "ipython3",
   "version": "3.7.3"
  }
 },
 "nbformat": 4,
 "nbformat_minor": 2
}
